{
 "cells": [
  {
   "cell_type": "markdown",
   "metadata": {},
   "source": [
    "# Telcom Customer Churn\n",
    "Matthew Mandel Hemsley"
   ]
  },
  {
   "cell_type": "markdown",
   "metadata": {},
   "source": [
    "### Remember:  Churn in this dataset represents individuals who left within the last month"
   ]
  },
  {
   "cell_type": "code",
   "execution_count": 1,
   "metadata": {},
   "outputs": [],
   "source": [
    "#Imports\n",
    "import pandas as pd\n",
    "import numpy as np\n",
    "import matplotlib.pyplot as plt\n",
    "import seaborn as sns"
   ]
  },
  {
   "cell_type": "code",
   "execution_count": 2,
   "metadata": {},
   "outputs": [],
   "source": [
    "#Data Read In\n",
    "churn_df = pd.read_csv('./data/WA_Fn-UseC_-Telco-Customer-Churn.csv') # .CSV provided by Kaggle: https://www.kaggle.com/blastchar/telco-customer-churn"
   ]
  },
  {
   "cell_type": "code",
   "execution_count": 3,
   "metadata": {},
   "outputs": [
    {
     "name": "stdout",
     "output_type": "stream",
     "text": [
      "<class 'pandas.core.frame.DataFrame'>\n",
      "RangeIndex: 7043 entries, 0 to 7042\n",
      "Data columns (total 21 columns):\n",
      " #   Column            Non-Null Count  Dtype  \n",
      "---  ------            --------------  -----  \n",
      " 0   customerID        7043 non-null   object \n",
      " 1   gender            7043 non-null   object \n",
      " 2   SeniorCitizen     7043 non-null   int64  \n",
      " 3   Partner           7043 non-null   object \n",
      " 4   Dependents        7043 non-null   object \n",
      " 5   tenure            7043 non-null   int64  \n",
      " 6   PhoneService      7043 non-null   object \n",
      " 7   MultipleLines     7043 non-null   object \n",
      " 8   InternetService   7043 non-null   object \n",
      " 9   OnlineSecurity    7043 non-null   object \n",
      " 10  OnlineBackup      7043 non-null   object \n",
      " 11  DeviceProtection  7043 non-null   object \n",
      " 12  TechSupport       7043 non-null   object \n",
      " 13  StreamingTV       7043 non-null   object \n",
      " 14  StreamingMovies   7043 non-null   object \n",
      " 15  Contract          7043 non-null   object \n",
      " 16  PaperlessBilling  7043 non-null   object \n",
      " 17  PaymentMethod     7043 non-null   object \n",
      " 18  MonthlyCharges    7043 non-null   float64\n",
      " 19  TotalCharges      7043 non-null   object \n",
      " 20  Churn             7043 non-null   object \n",
      "dtypes: float64(1), int64(2), object(18)\n",
      "memory usage: 1.1+ MB\n"
     ]
    }
   ],
   "source": [
    "churn_df.info()"
   ]
  },
  {
   "cell_type": "markdown",
   "metadata": {},
   "source": [
    "Reindexing onto Customer ID as it is our unique key for this dataset"
   ]
  },
  {
   "cell_type": "code",
   "execution_count": 4,
   "metadata": {},
   "outputs": [
    {
     "name": "stdout",
     "output_type": "stream",
     "text": [
      "Duplicate Check before Reindexing: 0\n"
     ]
    }
   ],
   "source": [
    "#Check Customer ID for duplicates\n",
    "if churn_df['customerID'].duplicated().sum() == 0:\n",
    "    print('Duplicate Check before Reindexing:',churn_df['customerID'].duplicated().sum())\n",
    "    #Set Index as CustomerID\n",
    "    churn_df.set_index('customerID', inplace=True) \n",
    "else:\n",
    "    print('Please Check Dataset. Duplicates Found.')\n",
    "    print('Duplicates: ',churn_df['customerID'].duplicated())"
   ]
  },
  {
   "cell_type": "markdown",
   "metadata": {},
   "source": [
    "As we know our focus will be on Churn, let's take a look at it now to see what we will be using to construct our model."
   ]
  },
  {
   "cell_type": "code",
   "execution_count": 5,
   "metadata": {},
   "outputs": [
    {
     "name": "stdout",
     "output_type": "stream",
     "text": [
      "Number of Customers Retained: 5174\n",
      "Number of Customers Churned: 1869\n",
      "Percentage of Customers Lost: 26.5%\n"
     ]
    }
   ],
   "source": [
    "#Churn Column Analysis\n",
    "churned_not,churned = churn_df['Churn'].value_counts()\n",
    "print(f'Number of Customers Retained: {churned_not}')\n",
    "print(f'Number of Customers Churned: {churned}')\n",
    "print(f'Percentage of Customers Lost: {round(churned/(churned+churned_not),3)*100}%')\n"
   ]
  },
  {
   "cell_type": "markdown",
   "metadata": {},
   "source": [
    "## Data Cleaning\n",
    "To begin with, we are going to go through the object columns to determine what we are keeping/binarizing/dropping"
   ]
  },
  {
   "cell_type": "code",
   "execution_count": 6,
   "metadata": {},
   "outputs": [
    {
     "name": "stdout",
     "output_type": "stream",
     "text": [
      " Column Name: gender\n",
      " Column Unique Values: ['Female' 'Male']\n",
      "\n",
      " Column Name: Partner\n",
      " Column Unique Values: ['Yes' 'No']\n",
      "\n",
      " Column Name: Dependents\n",
      " Column Unique Values: ['No' 'Yes']\n",
      "\n",
      " Column Name: PhoneService\n",
      " Column Unique Values: ['No' 'Yes']\n",
      "\n",
      " Column Name: MultipleLines\n",
      " Column Unique Values: ['No phone service' 'No' 'Yes']\n",
      "\n",
      " Column Name: InternetService\n",
      " Column Unique Values: ['DSL' 'Fiber optic' 'No']\n",
      "\n",
      " Column Name: OnlineSecurity\n",
      " Column Unique Values: ['No' 'Yes' 'No internet service']\n",
      "\n",
      " Column Name: OnlineBackup\n",
      " Column Unique Values: ['Yes' 'No' 'No internet service']\n",
      "\n",
      " Column Name: DeviceProtection\n",
      " Column Unique Values: ['No' 'Yes' 'No internet service']\n",
      "\n",
      " Column Name: TechSupport\n",
      " Column Unique Values: ['No' 'Yes' 'No internet service']\n",
      "\n",
      " Column Name: StreamingTV\n",
      " Column Unique Values: ['No' 'Yes' 'No internet service']\n",
      "\n",
      " Column Name: StreamingMovies\n",
      " Column Unique Values: ['No' 'Yes' 'No internet service']\n",
      "\n",
      " Column Name: Contract\n",
      " Column Unique Values: ['Month-to-month' 'One year' 'Two year']\n",
      "\n",
      " Column Name: PaperlessBilling\n",
      " Column Unique Values: ['Yes' 'No']\n",
      "\n",
      " Column Name: PaymentMethod\n",
      " Column Unique Values: ['Electronic check' 'Mailed check' 'Bank transfer (automatic)'\n",
      " 'Credit card (automatic)']\n",
      "\n",
      " Column Name: TotalCharges\n",
      " Column Unique Values: ['29.85' '1889.5' '108.15' ... '346.45' '306.6' '6844.5']\n",
      "\n",
      " Column Name: Churn\n",
      " Column Unique Values: ['No' 'Yes']\n",
      "\n"
     ]
    }
   ],
   "source": [
    "#Loop through all object columns and show unique values to determine binzarization\n",
    "for column in churn_df:\n",
    "    if churn_df[column].dtypes == 'object':\n",
    "        print(f' Column Name: {column}')\n",
    "        print(f' Column Unique Values: {churn_df[column].unique()}')\n",
    "        print(f'')"
   ]
  },
  {
   "cell_type": "markdown",
   "metadata": {},
   "source": [
    "TotalCharges should not be an object, so that will be the first thing we examine"
   ]
  },
  {
   "cell_type": "code",
   "execution_count": 7,
   "metadata": {},
   "outputs": [
    {
     "name": "stdout",
     "output_type": "stream",
     "text": [
      "Problem Value: \n",
      "Problem Value: \n",
      "Problem Value: \n",
      "Problem Value: \n",
      "Problem Value: \n",
      "Problem Value: \n",
      "Problem Value: \n",
      "Problem Value: \n",
      "Problem Value: \n",
      "Problem Value: \n",
      "Problem Value: \n"
     ]
    }
   ],
   "source": [
    "for value in churn_df['TotalCharges']:\n",
    "        if len(value) == 1:\n",
    "            print(f'Problem Value:{value}')"
   ]
  },
  {
   "cell_type": "markdown",
   "metadata": {},
   "source": [
    "Though difficult to see, our issue in this column is the several ' ' values in cells"
   ]
  },
  {
   "cell_type": "code",
   "execution_count": 8,
   "metadata": {},
   "outputs": [],
   "source": [
    "#Replacing spaces with np.NaN and casting the column as a float\n",
    "churn_df['TotalCharges'] = churn_df['TotalCharges'].replace(' ',np.NaN)\n",
    "churn_df['TotalCharges'] = churn_df['TotalCharges'].astype(float)"
   ]
  },
  {
   "cell_type": "markdown",
   "metadata": {},
   "source": [
    "Several columns, including Churn, consist of Yes/No strings which we can quickly convert into 1/0"
   ]
  },
  {
   "cell_type": "code",
   "execution_count": 9,
   "metadata": {},
   "outputs": [],
   "source": [
    "#List of columns to binarize\n",
    "binarize_list = ['Partner','Dependents','PhoneService','PaperlessBilling','Churn']\n",
    "\n",
    "#Loop through each column in the binarize_list and binarize\n",
    "for column in churn_df[binarize_list]:\n",
    "        churn_df[column] = churn_df[column].map({'Yes':1,'No':0})"
   ]
  },
  {
   "cell_type": "markdown",
   "metadata": {},
   "source": [
    "Several columns consist of No internet service values, in addition to Yes and No. These columns will be binarized, with np.nulls filling the No internet service values for cleaning purposes.\n",
    "\n",
    "These may be dropped later depending on the quanity."
   ]
  },
  {
   "cell_type": "code",
   "execution_count": 10,
   "metadata": {},
   "outputs": [],
   "source": [
    "#List of columns to alter\n",
    "np_list = ['OnlineSecurity','OnlineBackup','DeviceProtection','TechSupport','StreamingTV','StreamingMovies']\n",
    "\n",
    "#Loop through each column in the np_list and alter values accounting to .map parameters\n",
    "for column in churn_df[np_list]:\n",
    "    churn_df[column] = churn_df[column].map({'Yes':2,'No':1,'No internet service':0})"
   ]
  },
  {
   "cell_type": "code",
   "execution_count": 11,
   "metadata": {},
   "outputs": [],
   "source": [
    "churn_df['gender'] = churn_df['gender'].map({'Female':1,'Male':0}) #Binarize Gender"
   ]
  },
  {
   "cell_type": "code",
   "execution_count": 12,
   "metadata": {},
   "outputs": [
    {
     "name": "stdout",
     "output_type": "stream",
     "text": [
      "<class 'pandas.core.frame.DataFrame'>\n",
      "Index: 7043 entries, 7590-VHVEG to 3186-AJIEK\n",
      "Data columns (total 20 columns):\n",
      " #   Column            Non-Null Count  Dtype  \n",
      "---  ------            --------------  -----  \n",
      " 0   gender            7043 non-null   int64  \n",
      " 1   SeniorCitizen     7043 non-null   int64  \n",
      " 2   Partner           7043 non-null   int64  \n",
      " 3   Dependents        7043 non-null   int64  \n",
      " 4   tenure            7043 non-null   int64  \n",
      " 5   PhoneService      7043 non-null   int64  \n",
      " 6   MultipleLines     7043 non-null   object \n",
      " 7   InternetService   7043 non-null   object \n",
      " 8   OnlineSecurity    7043 non-null   int64  \n",
      " 9   OnlineBackup      7043 non-null   int64  \n",
      " 10  DeviceProtection  7043 non-null   int64  \n",
      " 11  TechSupport       7043 non-null   int64  \n",
      " 12  StreamingTV       7043 non-null   int64  \n",
      " 13  StreamingMovies   7043 non-null   int64  \n",
      " 14  Contract          7043 non-null   object \n",
      " 15  PaperlessBilling  7043 non-null   int64  \n",
      " 16  PaymentMethod     7043 non-null   object \n",
      " 17  MonthlyCharges    7043 non-null   float64\n",
      " 18  TotalCharges      7032 non-null   float64\n",
      " 19  Churn             7043 non-null   int64  \n",
      "dtypes: float64(2), int64(14), object(4)\n",
      "memory usage: 1.1+ MB\n"
     ]
    }
   ],
   "source": [
    "churn_df.info()"
   ]
  },
  {
   "cell_type": "code",
   "execution_count": 13,
   "metadata": {},
   "outputs": [
    {
     "name": "stdout",
     "output_type": "stream",
     "text": [
      " Column Name: MultipleLines\n",
      " Column Unique Values: ['No phone service' 'No' 'Yes']\n",
      "\n",
      " Column Name: InternetService\n",
      " Column Unique Values: ['DSL' 'Fiber optic' 'No']\n",
      "\n",
      " Column Name: Contract\n",
      " Column Unique Values: ['Month-to-month' 'One year' 'Two year']\n",
      "\n",
      " Column Name: PaymentMethod\n",
      " Column Unique Values: ['Electronic check' 'Mailed check' 'Bank transfer (automatic)'\n",
      " 'Credit card (automatic)']\n",
      "\n"
     ]
    }
   ],
   "source": [
    "for column in churn_df:\n",
    "    if churn_df[column].dtypes == 'object':\n",
    "        print(f' Column Name: {column}')\n",
    "        print(f' Column Unique Values: {churn_df[column].unique()}')\n",
    "        print(f'')"
   ]
  },
  {
   "cell_type": "code",
   "execution_count": 14,
   "metadata": {},
   "outputs": [],
   "source": [
    "dummies_list = ['MultipleLines','InternetService','Contract','PaymentMethod']\n",
    "\n",
    "churn_df = pd.get_dummies(churn_df,columns=dummies_list)"
   ]
  },
  {
   "cell_type": "markdown",
   "metadata": {},
   "source": [
    "I believe PaymentMethod can be turned into a simpler category of Automatic vs Manual. To determine whether this is worth doing, I'm going to first turn PaymentMethod into a numeric categories"
   ]
  },
  {
   "cell_type": "code",
   "execution_count": 15,
   "metadata": {},
   "outputs": [],
   "source": [
    "#PaymentMethodType will be add with Automatic vs Manual, with Automatic being 1 and Manual being 0, using PaymentMethod's values\n",
    "#churn_df['PaymentMethodType'] = churn_df['PaymentMethod'].map({'Electronic check':0,'Mailed check':0,'Bank transfer (automatic)':1,'Credit card (automatic)':1})"
   ]
  },
  {
   "cell_type": "code",
   "execution_count": 16,
   "metadata": {},
   "outputs": [],
   "source": [
    "#Clear all NaNs\n",
    "churn_df.dropna(inplace=True)"
   ]
  },
  {
   "cell_type": "markdown",
   "metadata": {},
   "source": [
    "Exporting cleaned data set"
   ]
  },
  {
   "cell_type": "code",
   "execution_count": 17,
   "metadata": {},
   "outputs": [],
   "source": [
    "churn_df.to_csv('./data/clean_churn.csv')"
   ]
  },
  {
   "cell_type": "markdown",
   "metadata": {},
   "source": [
    "## Visualizations"
   ]
  },
  {
   "cell_type": "code",
   "execution_count": 18,
   "metadata": {},
   "outputs": [
    {
     "data": {
      "text/html": [
       "<div>\n",
       "<style scoped>\n",
       "    .dataframe tbody tr th:only-of-type {\n",
       "        vertical-align: middle;\n",
       "    }\n",
       "\n",
       "    .dataframe tbody tr th {\n",
       "        vertical-align: top;\n",
       "    }\n",
       "\n",
       "    .dataframe thead th {\n",
       "        text-align: right;\n",
       "    }\n",
       "</style>\n",
       "<table border=\"1\" class=\"dataframe\">\n",
       "  <thead>\n",
       "    <tr style=\"text-align: right;\">\n",
       "      <th></th>\n",
       "      <th>gender</th>\n",
       "      <th>SeniorCitizen</th>\n",
       "      <th>Partner</th>\n",
       "      <th>Dependents</th>\n",
       "      <th>tenure</th>\n",
       "      <th>PhoneService</th>\n",
       "      <th>OnlineSecurity</th>\n",
       "      <th>OnlineBackup</th>\n",
       "      <th>DeviceProtection</th>\n",
       "      <th>TechSupport</th>\n",
       "      <th>...</th>\n",
       "      <th>InternetService_DSL</th>\n",
       "      <th>InternetService_Fiber optic</th>\n",
       "      <th>InternetService_No</th>\n",
       "      <th>Contract_Month-to-month</th>\n",
       "      <th>Contract_One year</th>\n",
       "      <th>Contract_Two year</th>\n",
       "      <th>PaymentMethod_Bank transfer (automatic)</th>\n",
       "      <th>PaymentMethod_Credit card (automatic)</th>\n",
       "      <th>PaymentMethod_Electronic check</th>\n",
       "      <th>PaymentMethod_Mailed check</th>\n",
       "    </tr>\n",
       "  </thead>\n",
       "  <tbody>\n",
       "    <tr>\n",
       "      <th>count</th>\n",
       "      <td>7032.000000</td>\n",
       "      <td>7032.000000</td>\n",
       "      <td>7032.000000</td>\n",
       "      <td>7032.000000</td>\n",
       "      <td>7032.000000</td>\n",
       "      <td>7032.000000</td>\n",
       "      <td>7032.000000</td>\n",
       "      <td>7032.000000</td>\n",
       "      <td>7032.000000</td>\n",
       "      <td>7032.000000</td>\n",
       "      <td>...</td>\n",
       "      <td>7032.000000</td>\n",
       "      <td>7032.000000</td>\n",
       "      <td>7032.000000</td>\n",
       "      <td>7032.000000</td>\n",
       "      <td>7032.000000</td>\n",
       "      <td>7032.000000</td>\n",
       "      <td>7032.000000</td>\n",
       "      <td>7032.000000</td>\n",
       "      <td>7032.000000</td>\n",
       "      <td>7032.000000</td>\n",
       "    </tr>\n",
       "    <tr>\n",
       "      <th>mean</th>\n",
       "      <td>0.495307</td>\n",
       "      <td>0.162400</td>\n",
       "      <td>0.482509</td>\n",
       "      <td>0.298493</td>\n",
       "      <td>32.421786</td>\n",
       "      <td>0.903299</td>\n",
       "      <td>1.070392</td>\n",
       "      <td>1.128697</td>\n",
       "      <td>1.127702</td>\n",
       "      <td>1.073948</td>\n",
       "      <td>...</td>\n",
       "      <td>0.343572</td>\n",
       "      <td>0.440273</td>\n",
       "      <td>0.216155</td>\n",
       "      <td>0.551052</td>\n",
       "      <td>0.209329</td>\n",
       "      <td>0.239619</td>\n",
       "      <td>0.219283</td>\n",
       "      <td>0.216297</td>\n",
       "      <td>0.336320</td>\n",
       "      <td>0.228100</td>\n",
       "    </tr>\n",
       "    <tr>\n",
       "      <th>std</th>\n",
       "      <td>0.500014</td>\n",
       "      <td>0.368844</td>\n",
       "      <td>0.499729</td>\n",
       "      <td>0.457629</td>\n",
       "      <td>24.545260</td>\n",
       "      <td>0.295571</td>\n",
       "      <td>0.705562</td>\n",
       "      <td>0.737917</td>\n",
       "      <td>0.737415</td>\n",
       "      <td>0.707715</td>\n",
       "      <td>...</td>\n",
       "      <td>0.474934</td>\n",
       "      <td>0.496455</td>\n",
       "      <td>0.411650</td>\n",
       "      <td>0.497422</td>\n",
       "      <td>0.406858</td>\n",
       "      <td>0.426881</td>\n",
       "      <td>0.413790</td>\n",
       "      <td>0.411748</td>\n",
       "      <td>0.472483</td>\n",
       "      <td>0.419637</td>\n",
       "    </tr>\n",
       "    <tr>\n",
       "      <th>min</th>\n",
       "      <td>0.000000</td>\n",
       "      <td>0.000000</td>\n",
       "      <td>0.000000</td>\n",
       "      <td>0.000000</td>\n",
       "      <td>1.000000</td>\n",
       "      <td>0.000000</td>\n",
       "      <td>0.000000</td>\n",
       "      <td>0.000000</td>\n",
       "      <td>0.000000</td>\n",
       "      <td>0.000000</td>\n",
       "      <td>...</td>\n",
       "      <td>0.000000</td>\n",
       "      <td>0.000000</td>\n",
       "      <td>0.000000</td>\n",
       "      <td>0.000000</td>\n",
       "      <td>0.000000</td>\n",
       "      <td>0.000000</td>\n",
       "      <td>0.000000</td>\n",
       "      <td>0.000000</td>\n",
       "      <td>0.000000</td>\n",
       "      <td>0.000000</td>\n",
       "    </tr>\n",
       "    <tr>\n",
       "      <th>25%</th>\n",
       "      <td>0.000000</td>\n",
       "      <td>0.000000</td>\n",
       "      <td>0.000000</td>\n",
       "      <td>0.000000</td>\n",
       "      <td>9.000000</td>\n",
       "      <td>1.000000</td>\n",
       "      <td>1.000000</td>\n",
       "      <td>1.000000</td>\n",
       "      <td>1.000000</td>\n",
       "      <td>1.000000</td>\n",
       "      <td>...</td>\n",
       "      <td>0.000000</td>\n",
       "      <td>0.000000</td>\n",
       "      <td>0.000000</td>\n",
       "      <td>0.000000</td>\n",
       "      <td>0.000000</td>\n",
       "      <td>0.000000</td>\n",
       "      <td>0.000000</td>\n",
       "      <td>0.000000</td>\n",
       "      <td>0.000000</td>\n",
       "      <td>0.000000</td>\n",
       "    </tr>\n",
       "    <tr>\n",
       "      <th>50%</th>\n",
       "      <td>0.000000</td>\n",
       "      <td>0.000000</td>\n",
       "      <td>0.000000</td>\n",
       "      <td>0.000000</td>\n",
       "      <td>29.000000</td>\n",
       "      <td>1.000000</td>\n",
       "      <td>1.000000</td>\n",
       "      <td>1.000000</td>\n",
       "      <td>1.000000</td>\n",
       "      <td>1.000000</td>\n",
       "      <td>...</td>\n",
       "      <td>0.000000</td>\n",
       "      <td>0.000000</td>\n",
       "      <td>0.000000</td>\n",
       "      <td>1.000000</td>\n",
       "      <td>0.000000</td>\n",
       "      <td>0.000000</td>\n",
       "      <td>0.000000</td>\n",
       "      <td>0.000000</td>\n",
       "      <td>0.000000</td>\n",
       "      <td>0.000000</td>\n",
       "    </tr>\n",
       "    <tr>\n",
       "      <th>75%</th>\n",
       "      <td>1.000000</td>\n",
       "      <td>0.000000</td>\n",
       "      <td>1.000000</td>\n",
       "      <td>1.000000</td>\n",
       "      <td>55.000000</td>\n",
       "      <td>1.000000</td>\n",
       "      <td>2.000000</td>\n",
       "      <td>2.000000</td>\n",
       "      <td>2.000000</td>\n",
       "      <td>2.000000</td>\n",
       "      <td>...</td>\n",
       "      <td>1.000000</td>\n",
       "      <td>1.000000</td>\n",
       "      <td>0.000000</td>\n",
       "      <td>1.000000</td>\n",
       "      <td>0.000000</td>\n",
       "      <td>0.000000</td>\n",
       "      <td>0.000000</td>\n",
       "      <td>0.000000</td>\n",
       "      <td>1.000000</td>\n",
       "      <td>0.000000</td>\n",
       "    </tr>\n",
       "    <tr>\n",
       "      <th>max</th>\n",
       "      <td>1.000000</td>\n",
       "      <td>1.000000</td>\n",
       "      <td>1.000000</td>\n",
       "      <td>1.000000</td>\n",
       "      <td>72.000000</td>\n",
       "      <td>1.000000</td>\n",
       "      <td>2.000000</td>\n",
       "      <td>2.000000</td>\n",
       "      <td>2.000000</td>\n",
       "      <td>2.000000</td>\n",
       "      <td>...</td>\n",
       "      <td>1.000000</td>\n",
       "      <td>1.000000</td>\n",
       "      <td>1.000000</td>\n",
       "      <td>1.000000</td>\n",
       "      <td>1.000000</td>\n",
       "      <td>1.000000</td>\n",
       "      <td>1.000000</td>\n",
       "      <td>1.000000</td>\n",
       "      <td>1.000000</td>\n",
       "      <td>1.000000</td>\n",
       "    </tr>\n",
       "  </tbody>\n",
       "</table>\n",
       "<p>8 rows × 29 columns</p>\n",
       "</div>"
      ],
      "text/plain": [
       "            gender  SeniorCitizen      Partner   Dependents       tenure  \\\n",
       "count  7032.000000    7032.000000  7032.000000  7032.000000  7032.000000   \n",
       "mean      0.495307       0.162400     0.482509     0.298493    32.421786   \n",
       "std       0.500014       0.368844     0.499729     0.457629    24.545260   \n",
       "min       0.000000       0.000000     0.000000     0.000000     1.000000   \n",
       "25%       0.000000       0.000000     0.000000     0.000000     9.000000   \n",
       "50%       0.000000       0.000000     0.000000     0.000000    29.000000   \n",
       "75%       1.000000       0.000000     1.000000     1.000000    55.000000   \n",
       "max       1.000000       1.000000     1.000000     1.000000    72.000000   \n",
       "\n",
       "       PhoneService  OnlineSecurity  OnlineBackup  DeviceProtection  \\\n",
       "count   7032.000000     7032.000000   7032.000000       7032.000000   \n",
       "mean       0.903299        1.070392      1.128697          1.127702   \n",
       "std        0.295571        0.705562      0.737917          0.737415   \n",
       "min        0.000000        0.000000      0.000000          0.000000   \n",
       "25%        1.000000        1.000000      1.000000          1.000000   \n",
       "50%        1.000000        1.000000      1.000000          1.000000   \n",
       "75%        1.000000        2.000000      2.000000          2.000000   \n",
       "max        1.000000        2.000000      2.000000          2.000000   \n",
       "\n",
       "       TechSupport  ...  InternetService_DSL  InternetService_Fiber optic  \\\n",
       "count  7032.000000  ...          7032.000000                  7032.000000   \n",
       "mean      1.073948  ...             0.343572                     0.440273   \n",
       "std       0.707715  ...             0.474934                     0.496455   \n",
       "min       0.000000  ...             0.000000                     0.000000   \n",
       "25%       1.000000  ...             0.000000                     0.000000   \n",
       "50%       1.000000  ...             0.000000                     0.000000   \n",
       "75%       2.000000  ...             1.000000                     1.000000   \n",
       "max       2.000000  ...             1.000000                     1.000000   \n",
       "\n",
       "       InternetService_No  Contract_Month-to-month  Contract_One year  \\\n",
       "count         7032.000000              7032.000000        7032.000000   \n",
       "mean             0.216155                 0.551052           0.209329   \n",
       "std              0.411650                 0.497422           0.406858   \n",
       "min              0.000000                 0.000000           0.000000   \n",
       "25%              0.000000                 0.000000           0.000000   \n",
       "50%              0.000000                 1.000000           0.000000   \n",
       "75%              0.000000                 1.000000           0.000000   \n",
       "max              1.000000                 1.000000           1.000000   \n",
       "\n",
       "       Contract_Two year  PaymentMethod_Bank transfer (automatic)  \\\n",
       "count        7032.000000                              7032.000000   \n",
       "mean            0.239619                                 0.219283   \n",
       "std             0.426881                                 0.413790   \n",
       "min             0.000000                                 0.000000   \n",
       "25%             0.000000                                 0.000000   \n",
       "50%             0.000000                                 0.000000   \n",
       "75%             0.000000                                 0.000000   \n",
       "max             1.000000                                 1.000000   \n",
       "\n",
       "       PaymentMethod_Credit card (automatic)  PaymentMethod_Electronic check  \\\n",
       "count                            7032.000000                     7032.000000   \n",
       "mean                                0.216297                        0.336320   \n",
       "std                                 0.411748                        0.472483   \n",
       "min                                 0.000000                        0.000000   \n",
       "25%                                 0.000000                        0.000000   \n",
       "50%                                 0.000000                        0.000000   \n",
       "75%                                 0.000000                        1.000000   \n",
       "max                                 1.000000                        1.000000   \n",
       "\n",
       "       PaymentMethod_Mailed check  \n",
       "count                 7032.000000  \n",
       "mean                     0.228100  \n",
       "std                      0.419637  \n",
       "min                      0.000000  \n",
       "25%                      0.000000  \n",
       "50%                      0.000000  \n",
       "75%                      0.000000  \n",
       "max                      1.000000  \n",
       "\n",
       "[8 rows x 29 columns]"
      ]
     },
     "execution_count": 18,
     "metadata": {},
     "output_type": "execute_result"
    }
   ],
   "source": [
    "churn_df.describe()"
   ]
  },
  {
   "cell_type": "markdown",
   "metadata": {},
   "source": [
    "We can already make some conclusions based off the above table. We have slightly more males in our sample, and only 16% of our sample consists of individuals over 65 years of age. Since we care about Churn, lets take a look specifically at that."
   ]
  },
  {
   "cell_type": "markdown",
   "metadata": {},
   "source": [
    "Seeing that 26.53% of the customers in this dataset have churned, next we will create a heatmap correlated around Churn to see what is impactful and by how much."
   ]
  },
  {
   "cell_type": "code",
   "execution_count": 19,
   "metadata": {},
   "outputs": [
    {
     "data": {
      "image/png": "[encoded data removed]",
      "text/plain": [
       "<Figure size 432x288 with 2 Axes>"
      ]
     },
     "metadata": {
      "needs_background": "light"
     },
     "output_type": "display_data"
    }
   ],
   "source": [
    "sns.heatmap(churn_df.corr()[['Churn']].sort_values(by='Churn', ascending=False),\n",
    "           annot=True,\n",
    "           cmap='rainbow',\n",
    "            vmin=-1, vmax=1,\n",
    "           linewidths=0.05,linecolor='black',\n",
    "           );"
   ]
  },
  {
   "cell_type": "markdown",
   "metadata": {},
   "source": [
    "InternetService, Contract, and Tenure seem to be the most impactful currently. Let's explore those columns."
   ]
  },
  {
   "cell_type": "code",
   "execution_count": 20,
   "metadata": {},
   "outputs": [],
   "source": [
    "list_contract_breaker = ['Churn','Contract_One year','Contract_Two year','Contract_Month-to-month','tenure']"
   ]
  },
  {
   "cell_type": "code",
   "execution_count": 21,
   "metadata": {
    "scrolled": false
   },
   "outputs": [
    {
     "name": "stdout",
     "output_type": "stream",
     "text": [
      "\n",
      "Churn\n",
      "        count  mean  std  min  25%  50%  75%  max\n",
      "Churn                                            \n",
      "0      5163.0   0.0  0.0  0.0  0.0  0.0  0.0  0.0\n",
      "1      1869.0   1.0  0.0  1.0  1.0  1.0  1.0  1.0\n",
      "\n",
      "\n",
      "Contract_One year\n",
      "        count      mean       std  min  25%  50%  75%  max\n",
      "Churn                                                     \n",
      "0      5163.0  0.252954  0.434747  0.0  0.0  0.0  1.0  1.0\n",
      "1      1869.0  0.088818  0.284556  0.0  0.0  0.0  0.0  1.0\n",
      "\n",
      "\n",
      "Contract_Two year\n",
      "        count      mean       std  min  25%  50%  75%  max\n",
      "Churn                                                     \n",
      "0      5163.0  0.317064  0.465378  0.0  0.0  0.0  1.0  1.0\n",
      "1      1869.0  0.025682  0.158228  0.0  0.0  0.0  0.0  1.0\n",
      "\n",
      "\n",
      "Contract_Month-to-month\n",
      "        count      mean       std  min  25%  50%  75%  max\n",
      "Churn                                                     \n",
      "0      5163.0  0.429983  0.495121  0.0  0.0  0.0  1.0  1.0\n",
      "1      1869.0  0.885500  0.318502  0.0  1.0  1.0  1.0  1.0\n",
      "\n",
      "\n",
      "tenure\n",
      "        count       mean        std  min   25%   50%   75%   max\n",
      "Churn                                                           \n",
      "0      5163.0  37.650010  24.076940  1.0  15.0  38.0  61.0  72.0\n",
      "1      1869.0  17.979133  19.531123  1.0   2.0  10.0  29.0  72.0\n",
      "\n"
     ]
    }
   ],
   "source": [
    "for column in churn_df[list_contract_breaker]:\n",
    "    print('')\n",
    "    print(column)\n",
    "    print(churn_df[column].groupby(by=churn_df['Churn']).describe())\n",
    "    print('')"
   ]
  },
  {
   "cell_type": "markdown",
   "metadata": {},
   "source": [
    "We can see that out of the contract types, Month-to-Month is a far more important indicator for likelyhood of churning. Let's explore tenure a bit more to see if there are any clear trends."
   ]
  },
  {
   "cell_type": "code",
   "execution_count": 22,
   "metadata": {},
   "outputs": [
    {
     "name": "stdout",
     "output_type": "stream",
     "text": [
      "Tenure Descriptive Statistical Measurements\n",
      "count    7032.000000\n",
      "mean       32.421786\n",
      "std        24.545260\n",
      "min         1.000000\n",
      "25%         9.000000\n",
      "50%        29.000000\n",
      "75%        55.000000\n",
      "max        72.000000\n",
      "Name: tenure, dtype: float64\n"
     ]
    },
    {
     "data": {
      "image/png": "[encoded data removed]",
      "text/plain": [
       "<Figure size 432x288 with 1 Axes>"
      ]
     },
     "metadata": {
      "needs_background": "light"
     },
     "output_type": "display_data"
    }
   ],
   "source": [
    "print('Tenure Descriptive Statistical Measurements')\n",
    "print(churn_df['tenure'].describe())\n",
    "\n",
    "#Plot distribution of tenure\n",
    "plt.title('Distribution of Tenure by Month')\n",
    "plt.xlabel('Length of Tenure by Month')\n",
    "plt.ylabel('Individual Customer Count')\n",
    "sns.histplot(data=churn_df['tenure'],kde=True,bins=int(np.sqrt(72)));"
   ]
  },
  {
   "cell_type": "code",
   "execution_count": 23,
   "metadata": {},
   "outputs": [
    {
     "data": {
      "image/png": "[encoded data removed]",
      "text/plain": [
       "<Figure size 432x288 with 1 Axes>"
      ]
     },
     "metadata": {
      "needs_background": "light"
     },
     "output_type": "display_data"
    }
   ],
   "source": [
    "#Boxplot of Tenure\n",
    "plt.xlabel(xlabel='Tenure')\n",
    "plt.ylabel('Contract Length in Months')\n",
    "plt.boxplot(x=churn_df['tenure']);"
   ]
  },
  {
   "cell_type": "code",
   "execution_count": null,
   "metadata": {},
   "outputs": [],
   "source": []
  },
  {
   "cell_type": "markdown",
   "metadata": {},
   "source": []
  },
  {
   "cell_type": "code",
   "execution_count": 38,
   "metadata": {},
   "outputs": [
    {
     "data": {
      "text/html": [
       "<div>\n",
       "<style scoped>\n",
       "    .dataframe tbody tr th:only-of-type {\n",
       "        vertical-align: middle;\n",
       "    }\n",
       "\n",
       "    .dataframe tbody tr th {\n",
       "        vertical-align: top;\n",
       "    }\n",
       "\n",
       "    .dataframe thead th {\n",
       "        text-align: right;\n",
       "    }\n",
       "</style>\n",
       "<table border=\"1\" class=\"dataframe\">\n",
       "  <thead>\n",
       "    <tr style=\"text-align: right;\">\n",
       "      <th></th>\n",
       "      <th>tenure</th>\n",
       "    </tr>\n",
       "  </thead>\n",
       "  <tbody>\n",
       "    <tr>\n",
       "      <th>count</th>\n",
       "      <td>1869.000000</td>\n",
       "    </tr>\n",
       "    <tr>\n",
       "      <th>mean</th>\n",
       "      <td>17.979133</td>\n",
       "    </tr>\n",
       "    <tr>\n",
       "      <th>std</th>\n",
       "      <td>19.531123</td>\n",
       "    </tr>\n",
       "    <tr>\n",
       "      <th>min</th>\n",
       "      <td>1.000000</td>\n",
       "    </tr>\n",
       "    <tr>\n",
       "      <th>25%</th>\n",
       "      <td>2.000000</td>\n",
       "    </tr>\n",
       "    <tr>\n",
       "      <th>50%</th>\n",
       "      <td>10.000000</td>\n",
       "    </tr>\n",
       "    <tr>\n",
       "      <th>75%</th>\n",
       "      <td>29.000000</td>\n",
       "    </tr>\n",
       "    <tr>\n",
       "      <th>max</th>\n",
       "      <td>72.000000</td>\n",
       "    </tr>\n",
       "  </tbody>\n",
       "</table>\n",
       "</div>"
      ],
      "text/plain": [
       "            tenure\n",
       "count  1869.000000\n",
       "mean     17.979133\n",
       "std      19.531123\n",
       "min       1.000000\n",
       "25%       2.000000\n",
       "50%      10.000000\n",
       "75%      29.000000\n",
       "max      72.000000"
      ]
     },
     "execution_count": 38,
     "metadata": {},
     "output_type": "execute_result"
    }
   ],
   "source": [
    "#Creating a seperate dataframe of all churned customers for this month, with number of months they were on contract\n",
    "tenure_churned_df = pd.DataFrame(churn_df['tenure'].where(churn_df['Churn']==True))\n",
    "\n",
    "#Dropping null values to isolate all churned customers, as all null values are for retained customers for this specific dataframe\n",
    "tenure_churned_df.dropna(inplace=True)\n",
    "tenure_churned_df.describe()"
   ]
  },
  {
   "cell_type": "code",
   "execution_count": 27,
   "metadata": {},
   "outputs": [
    {
     "data": {
      "image/png": "[encoded data removed]",
      "text/plain": [
       "<Figure size 432x288 with 1 Axes>"
      ]
     },
     "metadata": {
      "needs_background": "light"
     },
     "output_type": "display_data"
    }
   ],
   "source": [
    "#Creating a histogram to examine the distribution of the data for trends and patterns\n",
    "sns.histplot(data=tenure_churned_df, kde=True,bins=int(np.sqrt(tenure_churned_df.shape[0])));"
   ]
  },
  {
   "cell_type": "markdown",
   "metadata": {},
   "source": [
    "We can see that the bulk of our churned customers were within the first 10 months of their subscription. Let's examine what the culmative monthly churn probability, based on these numbers."
   ]
  },
  {
   "cell_type": "code",
   "execution_count": 28,
   "metadata": {},
   "outputs": [
    {
     "name": "stdout",
     "output_type": "stream",
     "text": [
      "The probability of a Month-to-Month customer churning within 2 months is:  20%\n",
      "\n",
      "The probability of a Month-to-Month customer churning within 3 months is:  27%\n",
      "\n",
      "The probability of a Month-to-Month customer churning within 4 months is:  32%\n",
      "\n",
      "The probability of a Month-to-Month customer churning within 7 months is:  43%\n",
      "\n",
      "The probability of a Month-to-Month customer churning within 13 months is:  56%\n",
      "\n",
      "The probability of a Month-to-Month customer churning within 19 months is:  65%\n",
      "\n",
      "The probability of a Month-to-Month customer churning within 24 months is:  71%\n",
      "Compared to a Two Year Length Customer: 24%\n",
      "\n"
     ]
    }
   ],
   "source": [
    "#Look at the culmative churn probability \n",
    "for i in [1,2,3,6,12,18,23]: #Looks at 1/2/3/6/12/24 month churn probability respectively\n",
    "    print('The probability of a Month-to-Month customer churning within',\n",
    "          i+1,'months is: ', \"{:.0%}\".format(tenure_churned_df.value_counts(normalize=True)[0:i].sum()))\n",
    "    \n",
    "    if i == 11:\n",
    "        print('Compared to a One Year Length customer:',\"{:.0%}\".format(churn_df['Contract_One year'].mean()))\n",
    "\n",
    "    elif i == 23:\n",
    "        print('Compared to a Two Year Length Customer:',\"{:.0%}\".format(churn_df['Contract_Two year'].mean()))\n",
    "    print('')"
   ]
  },
  {
   "cell_type": "code",
   "execution_count": 29,
   "metadata": {},
   "outputs": [
    {
     "data": {
      "image/png": "[encoded data removed]",
      "text/plain": [
       "<Figure size 432x288 with 1 Axes>"
      ]
     },
     "metadata": {},
     "output_type": "display_data"
    }
   ],
   "source": [
    "tenure_churned_df.value_counts(normalize=False)[0:9].plot.pie(autopct=\"%.1f%%\");"
   ]
  },
  {
   "cell_type": "code",
   "execution_count": 30,
   "metadata": {},
   "outputs": [
    {
     "ename": "TypeError",
     "evalue": "sort_values() missing 1 required positional argument: 'by'",
     "output_type": "error",
     "traceback": [
      "\u001b[1;31m---------------------------------------------------------------------------\u001b[0m",
      "\u001b[1;31mTypeError\u001b[0m                                 Traceback (most recent call last)",
      "\u001b[1;32m<ipython-input-30-a492cb00d237>\u001b[0m in \u001b[0;36m<module>\u001b[1;34m\u001b[0m\n\u001b[1;32m----> 1\u001b[1;33m \u001b[0mtenure_churned_df\u001b[0m\u001b[1;33m.\u001b[0m\u001b[0msort_values\u001b[0m\u001b[1;33m(\u001b[0m\u001b[1;33m)\u001b[0m\u001b[1;33m\u001b[0m\u001b[1;33m\u001b[0m\u001b[0m\n\u001b[0m",
      "\u001b[1;31mTypeError\u001b[0m: sort_values() missing 1 required positional argument: 'by'"
     ]
    }
   ],
   "source": [
    "tenure_churned_df.sort_values()"
   ]
  },
  {
   "cell_type": "code",
   "execution_count": null,
   "metadata": {},
   "outputs": [],
   "source": []
  }
 ],
 "metadata": {
  "kernelspec": {
   "display_name": "Python 3",
   "language": "python",
   "name": "python3"
  },
  "language_info": {
   "codemirror_mode": {
    "name": "ipython",
    "version": 3
   },
   "file_extension": ".py",
   "mimetype": "text/x-python",
   "name": "python",
   "nbconvert_exporter": "python",
   "pygments_lexer": "ipython3",
   "version": "3.8.5"
  }
 },
 "nbformat": 4,
 "nbformat_minor": 5
}
