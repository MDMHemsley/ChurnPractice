{
 "cells": [
  {
   "cell_type": "markdown",
   "metadata": {},
   "source": [
    "# Modeling\n",
    "Matthew Mandel Hemsley"
   ]
  },
  {
   "cell_type": "markdown",
   "metadata": {},
   "source": [
    "### Remember: Churn in this dataset represents individuals who left within the last month\n",
    "Additionally, Accuaracy and Precision will be our most important metrics as we are attempting to minimize Type 2 Errors"
   ]
  },
  {
   "cell_type": "code",
   "execution_count": 1,
   "metadata": {},
   "outputs": [],
   "source": [
    "#Imports\n",
    "import pandas as pd\n",
    "import numpy as np\n",
    "import matplotlib.pyplot as plt\n",
    "import seaborn as sns\n",
    "\n",
    "from sklearn.preprocessing import StandardScaler\n",
    "from sklearn.model_selection import train_test_split, GridSearchCV\n",
    "from sklearn.linear_model import LogisticRegression\n",
    "from sklearn.metrics import confusion_matrix, ConfusionMatrixDisplay, classification_report, plot_roc_curve, roc_auc_score\n",
    "from sklearn.neighbors import KNeighborsClassifier\n",
    "from sklearn.svm import SVC"
   ]
  },
  {
   "cell_type": "code",
   "execution_count": 2,
   "metadata": {},
   "outputs": [],
   "source": [
    "#Original Cleaned Kaggle Dataset\n",
    "churn_df = pd.read_csv('./data/clean_churn.csv')\n",
    "\n",
    "#Feature Engineered Dataset\n",
    "eng_churn_df = pd.read_csv('./data/feature_engineered_churn.csv')"
   ]
  },
  {
   "cell_type": "markdown",
   "metadata": {},
   "source": [
    "To begin, let's review our dataset and make sure it imported correctly."
   ]
  },
  {
   "cell_type": "code",
   "execution_count": 3,
   "metadata": {},
   "outputs": [
    {
     "data": {
      "text/html": [
       "<div>\n",
       "<style scoped>\n",
       "    .dataframe tbody tr th:only-of-type {\n",
       "        vertical-align: middle;\n",
       "    }\n",
       "\n",
       "    .dataframe tbody tr th {\n",
       "        vertical-align: top;\n",
       "    }\n",
       "\n",
       "    .dataframe thead th {\n",
       "        text-align: right;\n",
       "    }\n",
       "</style>\n",
       "<table border=\"1\" class=\"dataframe\">\n",
       "  <thead>\n",
       "    <tr style=\"text-align: right;\">\n",
       "      <th></th>\n",
       "      <th>customerID</th>\n",
       "      <th>gender</th>\n",
       "      <th>SeniorCitizen</th>\n",
       "      <th>Partner</th>\n",
       "      <th>Dependents</th>\n",
       "      <th>tenure</th>\n",
       "      <th>PhoneService</th>\n",
       "      <th>OnlineSecurity</th>\n",
       "      <th>OnlineBackup</th>\n",
       "      <th>DeviceProtection</th>\n",
       "      <th>...</th>\n",
       "      <th>InternetService_DSL</th>\n",
       "      <th>InternetService_Fiber optic</th>\n",
       "      <th>InternetService_No</th>\n",
       "      <th>Contract_Month-to-month</th>\n",
       "      <th>Contract_One year</th>\n",
       "      <th>Contract_Two year</th>\n",
       "      <th>PaymentMethod_Bank transfer (automatic)</th>\n",
       "      <th>PaymentMethod_Credit card (automatic)</th>\n",
       "      <th>PaymentMethod_Electronic check</th>\n",
       "      <th>PaymentMethod_Mailed check</th>\n",
       "    </tr>\n",
       "  </thead>\n",
       "  <tbody>\n",
       "    <tr>\n",
       "      <th>0</th>\n",
       "      <td>7590-VHVEG</td>\n",
       "      <td>1</td>\n",
       "      <td>0</td>\n",
       "      <td>1</td>\n",
       "      <td>0</td>\n",
       "      <td>1</td>\n",
       "      <td>0</td>\n",
       "      <td>1</td>\n",
       "      <td>2</td>\n",
       "      <td>1</td>\n",
       "      <td>...</td>\n",
       "      <td>1</td>\n",
       "      <td>0</td>\n",
       "      <td>0</td>\n",
       "      <td>1</td>\n",
       "      <td>0</td>\n",
       "      <td>0</td>\n",
       "      <td>0</td>\n",
       "      <td>0</td>\n",
       "      <td>1</td>\n",
       "      <td>0</td>\n",
       "    </tr>\n",
       "    <tr>\n",
       "      <th>1</th>\n",
       "      <td>5575-GNVDE</td>\n",
       "      <td>0</td>\n",
       "      <td>0</td>\n",
       "      <td>0</td>\n",
       "      <td>0</td>\n",
       "      <td>34</td>\n",
       "      <td>1</td>\n",
       "      <td>2</td>\n",
       "      <td>1</td>\n",
       "      <td>2</td>\n",
       "      <td>...</td>\n",
       "      <td>1</td>\n",
       "      <td>0</td>\n",
       "      <td>0</td>\n",
       "      <td>0</td>\n",
       "      <td>1</td>\n",
       "      <td>0</td>\n",
       "      <td>0</td>\n",
       "      <td>0</td>\n",
       "      <td>0</td>\n",
       "      <td>1</td>\n",
       "    </tr>\n",
       "    <tr>\n",
       "      <th>2</th>\n",
       "      <td>3668-QPYBK</td>\n",
       "      <td>0</td>\n",
       "      <td>0</td>\n",
       "      <td>0</td>\n",
       "      <td>0</td>\n",
       "      <td>2</td>\n",
       "      <td>1</td>\n",
       "      <td>2</td>\n",
       "      <td>2</td>\n",
       "      <td>1</td>\n",
       "      <td>...</td>\n",
       "      <td>1</td>\n",
       "      <td>0</td>\n",
       "      <td>0</td>\n",
       "      <td>1</td>\n",
       "      <td>0</td>\n",
       "      <td>0</td>\n",
       "      <td>0</td>\n",
       "      <td>0</td>\n",
       "      <td>0</td>\n",
       "      <td>1</td>\n",
       "    </tr>\n",
       "    <tr>\n",
       "      <th>3</th>\n",
       "      <td>7795-CFOCW</td>\n",
       "      <td>0</td>\n",
       "      <td>0</td>\n",
       "      <td>0</td>\n",
       "      <td>0</td>\n",
       "      <td>45</td>\n",
       "      <td>0</td>\n",
       "      <td>2</td>\n",
       "      <td>1</td>\n",
       "      <td>2</td>\n",
       "      <td>...</td>\n",
       "      <td>1</td>\n",
       "      <td>0</td>\n",
       "      <td>0</td>\n",
       "      <td>0</td>\n",
       "      <td>1</td>\n",
       "      <td>0</td>\n",
       "      <td>1</td>\n",
       "      <td>0</td>\n",
       "      <td>0</td>\n",
       "      <td>0</td>\n",
       "    </tr>\n",
       "    <tr>\n",
       "      <th>4</th>\n",
       "      <td>9237-HQITU</td>\n",
       "      <td>1</td>\n",
       "      <td>0</td>\n",
       "      <td>0</td>\n",
       "      <td>0</td>\n",
       "      <td>2</td>\n",
       "      <td>1</td>\n",
       "      <td>1</td>\n",
       "      <td>1</td>\n",
       "      <td>1</td>\n",
       "      <td>...</td>\n",
       "      <td>0</td>\n",
       "      <td>1</td>\n",
       "      <td>0</td>\n",
       "      <td>1</td>\n",
       "      <td>0</td>\n",
       "      <td>0</td>\n",
       "      <td>0</td>\n",
       "      <td>0</td>\n",
       "      <td>1</td>\n",
       "      <td>0</td>\n",
       "    </tr>\n",
       "  </tbody>\n",
       "</table>\n",
       "<p>5 rows × 30 columns</p>\n",
       "</div>"
      ],
      "text/plain": [
       "   customerID  gender  SeniorCitizen  Partner  Dependents  tenure  \\\n",
       "0  7590-VHVEG       1              0        1           0       1   \n",
       "1  5575-GNVDE       0              0        0           0      34   \n",
       "2  3668-QPYBK       0              0        0           0       2   \n",
       "3  7795-CFOCW       0              0        0           0      45   \n",
       "4  9237-HQITU       1              0        0           0       2   \n",
       "\n",
       "   PhoneService  OnlineSecurity  OnlineBackup  DeviceProtection  ...  \\\n",
       "0             0               1             2                 1  ...   \n",
       "1             1               2             1                 2  ...   \n",
       "2             1               2             2                 1  ...   \n",
       "3             0               2             1                 2  ...   \n",
       "4             1               1             1                 1  ...   \n",
       "\n",
       "   InternetService_DSL  InternetService_Fiber optic  InternetService_No  \\\n",
       "0                    1                            0                   0   \n",
       "1                    1                            0                   0   \n",
       "2                    1                            0                   0   \n",
       "3                    1                            0                   0   \n",
       "4                    0                            1                   0   \n",
       "\n",
       "   Contract_Month-to-month  Contract_One year  Contract_Two year  \\\n",
       "0                        1                  0                  0   \n",
       "1                        0                  1                  0   \n",
       "2                        1                  0                  0   \n",
       "3                        0                  1                  0   \n",
       "4                        1                  0                  0   \n",
       "\n",
       "   PaymentMethod_Bank transfer (automatic)  \\\n",
       "0                                        0   \n",
       "1                                        0   \n",
       "2                                        0   \n",
       "3                                        1   \n",
       "4                                        0   \n",
       "\n",
       "   PaymentMethod_Credit card (automatic)  PaymentMethod_Electronic check  \\\n",
       "0                                      0                               1   \n",
       "1                                      0                               0   \n",
       "2                                      0                               0   \n",
       "3                                      0                               0   \n",
       "4                                      0                               1   \n",
       "\n",
       "   PaymentMethod_Mailed check  \n",
       "0                           0  \n",
       "1                           1  \n",
       "2                           1  \n",
       "3                           0  \n",
       "4                           0  \n",
       "\n",
       "[5 rows x 30 columns]"
      ]
     },
     "execution_count": 3,
     "metadata": {},
     "output_type": "execute_result"
    }
   ],
   "source": [
    "churn_df.head()"
   ]
  },
  {
   "cell_type": "code",
   "execution_count": 4,
   "metadata": {},
   "outputs": [
    {
     "data": {
      "text/html": [
       "<div>\n",
       "<style scoped>\n",
       "    .dataframe tbody tr th:only-of-type {\n",
       "        vertical-align: middle;\n",
       "    }\n",
       "\n",
       "    .dataframe tbody tr th {\n",
       "        vertical-align: top;\n",
       "    }\n",
       "\n",
       "    .dataframe thead th {\n",
       "        text-align: right;\n",
       "    }\n",
       "</style>\n",
       "<table border=\"1\" class=\"dataframe\">\n",
       "  <thead>\n",
       "    <tr style=\"text-align: right;\">\n",
       "      <th></th>\n",
       "      <th>customerID</th>\n",
       "      <th>SeniorCitizen</th>\n",
       "      <th>Dependents</th>\n",
       "      <th>tenure</th>\n",
       "      <th>PhoneService</th>\n",
       "      <th>PaperlessBilling</th>\n",
       "      <th>MonthlyCharges</th>\n",
       "      <th>TotalCharges</th>\n",
       "      <th>Churn</th>\n",
       "      <th>InternetService_DSL</th>\n",
       "      <th>InternetService_Fiber optic</th>\n",
       "      <th>InternetService_No</th>\n",
       "      <th>Contract_Month-to-month</th>\n",
       "      <th>Contract_One year</th>\n",
       "      <th>Contract_Two year</th>\n",
       "      <th>Streaming</th>\n",
       "      <th>Online_Support</th>\n",
       "      <th>Technical_Support</th>\n",
       "      <th>Internet_Service</th>\n",
       "      <th>Contract</th>\n",
       "    </tr>\n",
       "  </thead>\n",
       "  <tbody>\n",
       "    <tr>\n",
       "      <th>0</th>\n",
       "      <td>7590-VHVEG</td>\n",
       "      <td>0</td>\n",
       "      <td>0</td>\n",
       "      <td>1</td>\n",
       "      <td>0</td>\n",
       "      <td>1</td>\n",
       "      <td>29.85</td>\n",
       "      <td>29.85</td>\n",
       "      <td>0</td>\n",
       "      <td>1</td>\n",
       "      <td>0</td>\n",
       "      <td>0</td>\n",
       "      <td>1</td>\n",
       "      <td>0</td>\n",
       "      <td>0</td>\n",
       "      <td>0</td>\n",
       "      <td>1</td>\n",
       "      <td>0</td>\n",
       "      <td>1</td>\n",
       "      <td>0</td>\n",
       "    </tr>\n",
       "    <tr>\n",
       "      <th>1</th>\n",
       "      <td>5575-GNVDE</td>\n",
       "      <td>0</td>\n",
       "      <td>0</td>\n",
       "      <td>34</td>\n",
       "      <td>1</td>\n",
       "      <td>0</td>\n",
       "      <td>56.95</td>\n",
       "      <td>1889.50</td>\n",
       "      <td>0</td>\n",
       "      <td>1</td>\n",
       "      <td>0</td>\n",
       "      <td>0</td>\n",
       "      <td>0</td>\n",
       "      <td>1</td>\n",
       "      <td>0</td>\n",
       "      <td>0</td>\n",
       "      <td>1</td>\n",
       "      <td>1</td>\n",
       "      <td>1</td>\n",
       "      <td>1</td>\n",
       "    </tr>\n",
       "    <tr>\n",
       "      <th>2</th>\n",
       "      <td>3668-QPYBK</td>\n",
       "      <td>0</td>\n",
       "      <td>0</td>\n",
       "      <td>2</td>\n",
       "      <td>1</td>\n",
       "      <td>1</td>\n",
       "      <td>53.85</td>\n",
       "      <td>108.15</td>\n",
       "      <td>1</td>\n",
       "      <td>1</td>\n",
       "      <td>0</td>\n",
       "      <td>0</td>\n",
       "      <td>1</td>\n",
       "      <td>0</td>\n",
       "      <td>0</td>\n",
       "      <td>0</td>\n",
       "      <td>1</td>\n",
       "      <td>0</td>\n",
       "      <td>1</td>\n",
       "      <td>0</td>\n",
       "    </tr>\n",
       "    <tr>\n",
       "      <th>3</th>\n",
       "      <td>7795-CFOCW</td>\n",
       "      <td>0</td>\n",
       "      <td>0</td>\n",
       "      <td>45</td>\n",
       "      <td>0</td>\n",
       "      <td>0</td>\n",
       "      <td>42.30</td>\n",
       "      <td>1840.75</td>\n",
       "      <td>0</td>\n",
       "      <td>1</td>\n",
       "      <td>0</td>\n",
       "      <td>0</td>\n",
       "      <td>0</td>\n",
       "      <td>1</td>\n",
       "      <td>0</td>\n",
       "      <td>0</td>\n",
       "      <td>1</td>\n",
       "      <td>1</td>\n",
       "      <td>1</td>\n",
       "      <td>1</td>\n",
       "    </tr>\n",
       "    <tr>\n",
       "      <th>4</th>\n",
       "      <td>9237-HQITU</td>\n",
       "      <td>0</td>\n",
       "      <td>0</td>\n",
       "      <td>2</td>\n",
       "      <td>1</td>\n",
       "      <td>1</td>\n",
       "      <td>70.70</td>\n",
       "      <td>151.65</td>\n",
       "      <td>1</td>\n",
       "      <td>0</td>\n",
       "      <td>1</td>\n",
       "      <td>0</td>\n",
       "      <td>1</td>\n",
       "      <td>0</td>\n",
       "      <td>0</td>\n",
       "      <td>0</td>\n",
       "      <td>0</td>\n",
       "      <td>0</td>\n",
       "      <td>1</td>\n",
       "      <td>0</td>\n",
       "    </tr>\n",
       "  </tbody>\n",
       "</table>\n",
       "</div>"
      ],
      "text/plain": [
       "   customerID  SeniorCitizen  Dependents  tenure  PhoneService  \\\n",
       "0  7590-VHVEG              0           0       1             0   \n",
       "1  5575-GNVDE              0           0      34             1   \n",
       "2  3668-QPYBK              0           0       2             1   \n",
       "3  7795-CFOCW              0           0      45             0   \n",
       "4  9237-HQITU              0           0       2             1   \n",
       "\n",
       "   PaperlessBilling  MonthlyCharges  TotalCharges  Churn  InternetService_DSL  \\\n",
       "0                 1           29.85         29.85      0                    1   \n",
       "1                 0           56.95       1889.50      0                    1   \n",
       "2                 1           53.85        108.15      1                    1   \n",
       "3                 0           42.30       1840.75      0                    1   \n",
       "4                 1           70.70        151.65      1                    0   \n",
       "\n",
       "   InternetService_Fiber optic  InternetService_No  Contract_Month-to-month  \\\n",
       "0                            0                   0                        1   \n",
       "1                            0                   0                        0   \n",
       "2                            0                   0                        1   \n",
       "3                            0                   0                        0   \n",
       "4                            1                   0                        1   \n",
       "\n",
       "   Contract_One year  Contract_Two year  Streaming  Online_Support  \\\n",
       "0                  0                  0          0               1   \n",
       "1                  1                  0          0               1   \n",
       "2                  0                  0          0               1   \n",
       "3                  1                  0          0               1   \n",
       "4                  0                  0          0               0   \n",
       "\n",
       "   Technical_Support  Internet_Service  Contract  \n",
       "0                  0                 1         0  \n",
       "1                  1                 1         1  \n",
       "2                  0                 1         0  \n",
       "3                  1                 1         1  \n",
       "4                  0                 1         0  "
      ]
     },
     "execution_count": 4,
     "metadata": {},
     "output_type": "execute_result"
    }
   ],
   "source": [
    "eng_churn_df.head()"
   ]
  },
  {
   "cell_type": "code",
   "execution_count": 5,
   "metadata": {},
   "outputs": [],
   "source": [
    "#Setting index to customerID\n",
    "churn_df.set_index('customerID',inplace=True)\n",
    "eng_churn_df.set_index('customerID',inplace=True)"
   ]
  },
  {
   "cell_type": "markdown",
   "metadata": {},
   "source": [
    "## Train/Test Split\n",
    "We will be using all the features in our dataset to predict our y, Churn. Additionally, we will be stratifing during our train/test split in order to offset our imbalanced Churn class."
   ]
  },
  {
   "cell_type": "code",
   "execution_count": 6,
   "metadata": {},
   "outputs": [],
   "source": [
    "#Train/Test Split\n",
    "X = churn_df.drop(columns=['Churn'])\n",
    "y = churn_df['Churn']\n",
    "X_train,X_test,y_train,y_test = train_test_split(X,y, random_state=42, stratify=y)"
   ]
  },
  {
   "cell_type": "code",
   "execution_count": 7,
   "metadata": {},
   "outputs": [],
   "source": [
    "#Scaling our data\n",
    "stan = StandardScaler()\n",
    "X_sc_train = stan.fit_transform(X_train)\n",
    "X_sc_test = stan.transform(X_test)"
   ]
  },
  {
   "cell_type": "markdown",
   "metadata": {},
   "source": [
    "We will do the same to our feature engineered dataset so we can examine the impact alongside the original dataset."
   ]
  },
  {
   "cell_type": "code",
   "execution_count": 8,
   "metadata": {},
   "outputs": [],
   "source": [
    "#Train/Test Split 2: Electric Boogaloo\n",
    "X_eng = eng_churn_df.drop(columns=['Churn'])\n",
    "y_eng = eng_churn_df['Churn']\n",
    "X_eng_train,X_eng_test,y_eng_train,y_eng_test = train_test_split(X_eng,y_eng, random_state=42, stratify=y)"
   ]
  },
  {
   "cell_type": "code",
   "execution_count": 9,
   "metadata": {},
   "outputs": [],
   "source": [
    "#Scaling Engineered Train/Test\n",
    "stan = StandardScaler()\n",
    "X_sc_eng_train = stan.fit_transform(X_eng_train)\n",
    "X_sc_eng_test = stan.transform(X_eng_test)"
   ]
  },
  {
   "cell_type": "markdown",
   "metadata": {},
   "source": [
    "## Logistic Regression\n",
    "We are just going to fit to a standard logistic regression model to create a baseline for us to compare our future models with. While we could simply use a standard of 50%, one of the goals of this notebook is to compare models and statistical techiniques across the same churn dataset. As we will see, a logistic regression model with default parameters scores very well on our dataset as is, so our challenge will be to not only develop a better model, but also identify which features contribute to higher accuracy and recall metrics, which will be our primary comparisons for our models."
   ]
  },
  {
   "cell_type": "code",
   "execution_count": 10,
   "metadata": {},
   "outputs": [
    {
     "data": {
      "text/plain": [
       "LogisticRegression()"
      ]
     },
     "execution_count": 10,
     "metadata": {},
     "output_type": "execute_result"
    }
   ],
   "source": [
    "#Instantiate/Fit/Score Default Logistic Regression Model\n",
    "logit = LogisticRegression()\n",
    "logit.fit(X_sc_train,y_train)\n",
    "\n",
    "eng_logit = LogisticRegression()\n",
    "eng_logit.fit(X_sc_eng_train,y_eng_train)"
   ]
  },
  {
   "cell_type": "code",
   "execution_count": 11,
   "metadata": {},
   "outputs": [
    {
     "name": "stdout",
     "output_type": "stream",
     "text": [
      "Training Accuracy: 80.39%\n",
      "Testing Accuracy: 80.60%\n",
      "\n",
      "Engineered Training Accuracy: 80.15%\n",
      "Engineered Testing Accuracy: 80.09%\n"
     ]
    }
   ],
   "source": [
    "print(f'Training Accuracy: {logit.score(X_sc_train,y_train):.2%}')\n",
    "print(f'Testing Accuracy: {logit.score(X_sc_test,y_test):.2%}')\n",
    "print()\n",
    "print(f'Engineered Training Accuracy: {eng_logit.score(X_sc_eng_train,y_eng_train):.2%}')\n",
    "print(f'Engineered Testing Accuracy: {eng_logit.score(X_sc_eng_test,y_eng_test):.2%}')"
   ]
  },
  {
   "cell_type": "markdown",
   "metadata": {},
   "source": [
    "We can see from these scores that not only does our logistic regression model predict 80% of the varience of our data, but our model is relatively fit, though clearly there is room for improvement. "
   ]
  },
  {
   "cell_type": "code",
   "execution_count": 12,
   "metadata": {},
   "outputs": [],
   "source": [
    "#Generate Predictions\n",
    "preds = logit.predict(X_sc_test)\n",
    "eng_preds = eng_logit.predict(X_sc_eng_test)"
   ]
  },
  {
   "cell_type": "code",
   "execution_count": 13,
   "metadata": {},
   "outputs": [
    {
     "name": "stdout",
     "output_type": "stream",
     "text": [
      "              precision    recall  f1-score   support\n",
      "\n",
      "           0       0.85      0.89      0.87      1291\n",
      "           1       0.65      0.57      0.61       467\n",
      "\n",
      "    accuracy                           0.81      1758\n",
      "   macro avg       0.75      0.73      0.74      1758\n",
      "weighted avg       0.80      0.81      0.80      1758\n",
      "\n"
     ]
    },
    {
     "data": {
      "image/png": "[encoded data removed]",
      "text/plain": [
       "<Figure size 432x288 with 2 Axes>"
      ]
     },
     "metadata": {
      "needs_background": "light"
     },
     "output_type": "display_data"
    }
   ],
   "source": [
    "print(classification_report(y_test,preds))\n",
    "cm = confusion_matrix(y_test,preds)\n",
    "ConfusionMatrixDisplay(confusion_matrix=cm, display_labels = logit.classes_).plot();"
   ]
  },
  {
   "cell_type": "markdown",
   "metadata": {},
   "source": [
    "The above confusion matrix shows a breakdown of our predictions. Our model predicted we would churn 410 customers. Of those predicted, 268 were correct. 199 customers churned out of 1149 we predicted would not churn. "
   ]
  },
  {
   "cell_type": "code",
   "execution_count": 14,
   "metadata": {},
   "outputs": [
    {
     "name": "stderr",
     "output_type": "stream",
     "text": [
      "C:\\Users\\Matthew\\anaconda3\\lib\\site-packages\\seaborn\\distributions.py:2557: FutureWarning: `distplot` is a deprecated function and will be removed in a future version. Please adapt your code to use either `displot` (a figure-level function with similar flexibility) or `histplot` (an axes-level function for histograms).\n",
      "  warnings.warn(msg, FutureWarning)\n"
     ]
    },
    {
     "data": {
      "image/png": "[encoded data removed]",
      "text/plain": [
       "<Figure size 864x360 with 1 Axes>"
      ]
     },
     "metadata": {
      "needs_background": "light"
     },
     "output_type": "display_data"
    }
   ],
   "source": [
    "pred_df = pd.DataFrame({'true_values':y_test,\n",
    "                        'pred_proba': logit.predict_proba(X_sc_test)[:,1]})\n",
    "\n",
    "plt.figure(figsize = (12, 5))\n",
    "\n",
    "# plot distributions of predicted probabilities by actual values\n",
    "for group in pred_df.groupby('true_values'):\n",
    "    sns.distplot(group[1], kde = False, bins = 20, label = f'Actual Outcome = {group[0]}');\n",
    "\n",
    "plt.xlabel('Predicted Probability that Outcome = 1');\n",
    "plt.legend();"
   ]
  },
  {
   "cell_type": "markdown",
   "metadata": {},
   "source": [
    "While this is helpful in visualizing our data distribution, we will be using the Area Under the Receiver Operating Characteristics, or AUC-ROC Curve."
   ]
  },
  {
   "cell_type": "code",
   "execution_count": 26,
   "metadata": {},
   "outputs": [
    {
     "data": {
      "image/png": "[encoded data removed]",
      "text/plain": [
       "<Figure size 432x288 with 1 Axes>"
      ]
     },
     "metadata": {
      "needs_background": "light"
     },
     "output_type": "display_data"
    }
   ],
   "source": [
    "\n",
    "plot_roc_curve(logit, X_sc_test, y_test)\n",
    "plt.plot([0,1],[0,1], label ='No Seperation',linestyle='--')\n",
    "plt.title('Logistical Regression AUC-ROC Curve')\n",
    "plt.legend();\n",
    "plt.savefig('./assets/logit_AUCROC.png');"
   ]
  },
  {
   "cell_type": "code",
   "execution_count": 47,
   "metadata": {},
   "outputs": [],
   "source": [
    "#AUC-ROC Curve Function\n",
    "def plot_aucroc_curve(model,X_test,y_test):\n",
    "    plot_roc_curve(model, X_test, y_test)\n",
    "    plt.plot([0,1],[0,1], label ='No Seperation',linestyle='--')\n",
    "    plt.title(str(model)+'AUC-ROC Curve')\n",
    "    plt.legend();\n",
    "    plt.savefig('./assets/'+str(model)+'_AUCROC.png');"
   ]
  },
  {
   "cell_type": "code",
   "execution_count": 48,
   "metadata": {},
   "outputs": [
    {
     "data": {
      "image/png": "[encoded data removed]",
      "text/plain": [
       "<Figure size 432x288 with 1 Axes>"
      ]
     },
     "metadata": {
      "needs_background": "light"
     },
     "output_type": "display_data"
    }
   ],
   "source": [
    "# Base Logit AUC-ROC curve\n",
    "plot_aucroc_curve(logit,X_sc_test,y_test)"
   ]
  },
  {
   "cell_type": "code",
   "execution_count": 27,
   "metadata": {},
   "outputs": [
    {
     "name": "stdout",
     "output_type": "stream",
     "text": [
      "              precision    recall  f1-score   support\n",
      "\n",
      "           0       0.85      0.88      0.87      1291\n",
      "           1       0.64      0.57      0.60       467\n",
      "\n",
      "    accuracy                           0.80      1758\n",
      "   macro avg       0.75      0.73      0.74      1758\n",
      "weighted avg       0.79      0.80      0.80      1758\n",
      "\n"
     ]
    },
    {
     "data": {
      "image/png": "[encoded data removed]",
      "text/plain": [
       "<Figure size 432x288 with 2 Axes>"
      ]
     },
     "metadata": {
      "needs_background": "light"
     },
     "output_type": "display_data"
    }
   ],
   "source": [
    "print(classification_report(y_eng_test,eng_preds))\n",
    "eng_cm = confusion_matrix(y_eng_test,eng_preds)\n",
    "ConfusionMatrixDisplay(confusion_matrix=eng_cm, display_labels = eng_logit.classes_).plot();"
   ]
  },
  {
   "cell_type": "markdown",
   "metadata": {},
   "source": [
    "Though we have the option to tune our model, a quick gridsearch will reveal that our defaults actually produce the best result."
   ]
  },
  {
   "cell_type": "code",
   "execution_count": null,
   "metadata": {},
   "outputs": [],
   "source": [
    "#Gridsearch Parameters\n",
    "logit_params = {\n",
    "    'penalty':['l1','l2'],\n",
    "    'class_weight':['balanced',None],\n",
    "    'solver':['lbfgs','liblinear','']\n",
    "}"
   ]
  },
  {
   "cell_type": "code",
   "execution_count": null,
   "metadata": {},
   "outputs": [],
   "source": [
    "logit_best = GridSearchCV(LogisticRegression(), logit_params,cv=10,verbose=0,n_jobs=3).fit(X_sc_train,y_train);\n",
    "print(f'Our best parameters: {logit_best.best_params_}')\n",
    "print(f'Out best score: {round(logit_best.best_score_,3)}')"
   ]
  },
  {
   "cell_type": "markdown",
   "metadata": {},
   "source": [
    "While it looks like our defaults are the best for our basic logit model, let us see if the same holds true for our feature engineered model."
   ]
  },
  {
   "cell_type": "code",
   "execution_count": null,
   "metadata": {},
   "outputs": [],
   "source": [
    "eng_logit_best = GridSearchCV(LogisticRegression(), logit_params,cv=10,verbose=0,n_jobs=3).fit(X_sc_eng_train,y_eng_train);\n",
    "print(f'Our best parameters: {eng_logit_best.best_params_}')\n",
    "print(f'Out best score: {round(eng_logit_best.best_score_,3)}')"
   ]
  },
  {
   "cell_type": "markdown",
   "metadata": {},
   "source": [
    "Looks like we can make some adjustments. Let's see how that affects the model's performance."
   ]
  },
  {
   "cell_type": "code",
   "execution_count": null,
   "metadata": {},
   "outputs": [],
   "source": [
    "tuned_eng_logit = LogisticRegression(penalty='l1',solver='liblinear')\n",
    "tuned_eng_logit.fit(X_sc_eng_train,y_eng_train)\n",
    "print(f'Training Accuracy: {tuned_eng_logit.score(X_sc_eng_train,y_eng_train):.2%}')\n",
    "print(f'Testing Accuracy: {tuned_eng_logit.score(X_sc_eng_test,y_eng_test):.2%}')"
   ]
  },
  {
   "cell_type": "markdown",
   "metadata": {},
   "source": [
    "And our confusion matrix"
   ]
  },
  {
   "cell_type": "code",
   "execution_count": null,
   "metadata": {},
   "outputs": [],
   "source": [
    "preds = tuned_eng_logit.predict(X_sc_eng_test)\n",
    "print(classification_report(y_eng_test,preds))\n",
    "cm = confusion_matrix(y_eng_test,preds)\n",
    "ConfusionMatrixDisplay(confusion_matrix=cm, display_labels = tuned_eng_logit.classes_).plot();"
   ]
  },
  {
   "cell_type": "markdown",
   "metadata": {},
   "source": [
    "## KNearest Neighbors"
   ]
  },
  {
   "cell_type": "code",
   "execution_count": null,
   "metadata": {},
   "outputs": [],
   "source": [
    "#KNearest Neighbors\n",
    "knn = KNeighborsClassifier()\n",
    "knn.fit(X_sc_train,y_train)"
   ]
  },
  {
   "cell_type": "code",
   "execution_count": null,
   "metadata": {},
   "outputs": [],
   "source": [
    "#Engineered KNN\n",
    "eng_knn = KNeighborsClassifier()\n",
    "eng_knn.fit(X_sc_eng_train,y_eng_train)"
   ]
  },
  {
   "cell_type": "code",
   "execution_count": null,
   "metadata": {},
   "outputs": [],
   "source": [
    "print(f'Training Score: {knn.score(X_sc_train,y_train):.2%}')\n",
    "print(f'Test Score: {knn.score(X_sc_test,y_test):.2%}')\n",
    "print()\n",
    "print(f'Engineered Training Accuracy: {eng_knn.score(X_sc_eng_train,y_eng_train):.2%}')\n",
    "print(f'Engineered Testing Accuracy: {eng_knn.score(X_sc_eng_test,y_eng_test):.2%}')"
   ]
  },
  {
   "cell_type": "code",
   "execution_count": null,
   "metadata": {},
   "outputs": [],
   "source": [
    "#Generate Predictions\n",
    "preds=knn.predict(X_sc_test)\n",
    "eng_preds = eng_knn.predict(X_sc_eng_test)"
   ]
  },
  {
   "cell_type": "code",
   "execution_count": null,
   "metadata": {},
   "outputs": [],
   "source": [
    "print(classification_report(y_test,preds))\n",
    "cm = confusion_matrix(y_test,preds)\n",
    "ConfusionMatrixDisplay(confusion_matrix=cm, display_labels = knn.classes_).plot();"
   ]
  },
  {
   "cell_type": "markdown",
   "metadata": {},
   "source": []
  },
  {
   "cell_type": "code",
   "execution_count": null,
   "metadata": {},
   "outputs": [],
   "source": [
    "print(classification_report(y_eng_test,eng_preds))\n",
    "cm = confusion_matrix(y_eng_test,eng_preds)\n",
    "ConfusionMatrixDisplay(confusion_matrix=cm, display_labels = eng_knn.classes_).plot();"
   ]
  },
  {
   "cell_type": "markdown",
   "metadata": {},
   "source": [
    "One of the first things we notice, is that our model performed worse than our logistic regression. Both of our models are overfit, though our feature engineered model is less so. Let's take a look at tuning some of our parameters to see if we can close that performance gap."
   ]
  },
  {
   "cell_type": "code",
   "execution_count": null,
   "metadata": {},
   "outputs": [],
   "source": [
    "#KNearest Neighbors Parameter Dictionary\n",
    "knn_params = {\n",
    "    'n_neighbors':range(10,101,10),\n",
    "    'weights':['uniform','distance'],\n",
    "    'p':[1,2]}"
   ]
  },
  {
   "cell_type": "code",
   "execution_count": null,
   "metadata": {},
   "outputs": [],
   "source": [
    "#GridSearch\n",
    "knn_best = GridSearchCV(KNeighborsClassifier(), knn_params,cv=10,verbose=1, n_jobs=3).fit(X_sc_train,y_train);\n",
    "print(f'Our best parameters: {knn_best.best_params_}')\n",
    "print(f'Out best score: {round(knn_best.best_score_,3)}')"
   ]
  },
  {
   "cell_type": "code",
   "execution_count": null,
   "metadata": {},
   "outputs": [],
   "source": [
    "eng_knn_best = GridSearchCV(KNeighborsClassifier(), knn_params, cv=10, verbose=1, n_jobs=3).fit(X_sc_eng_train,y_eng_train)\n",
    "print(f'Our best parameters: {eng_knn_best.best_params_}')\n",
    "print(f'Out best score: {round(eng_knn_best.best_score_,3)}')"
   ]
  },
  {
   "cell_type": "markdown",
   "metadata": {},
   "source": [
    "We can see that even with our gridsearch, we didn't see much improvement in our model. Let's instantiate a fresh model and fit it one last time to see our final training and test scores."
   ]
  },
  {
   "cell_type": "code",
   "execution_count": null,
   "metadata": {},
   "outputs": [],
   "source": [
    "tuned_knn = KNeighborsClassifier(n_neighbors=40,p=1)\n",
    "tuned_knn.fit(X_sc_train,y_train)"
   ]
  },
  {
   "cell_type": "code",
   "execution_count": null,
   "metadata": {},
   "outputs": [],
   "source": [
    "tuned_eng_knn = KNeighborsClassifier(n_neighbors=50,p=2)\n",
    "tuned_eng_knn.fit(X_sc_eng_train,y_eng_train)"
   ]
  },
  {
   "cell_type": "code",
   "execution_count": null,
   "metadata": {},
   "outputs": [],
   "source": [
    "print(f'Training Score: {tuned_knn.score(X_sc_train,y_train):.2%}')\n",
    "print(f'Test Score: {tuned_knn.score(X_sc_test,y_test):.2%}')\n",
    "print()\n",
    "print(f'Engineered Training Accuracy: {tuned_eng_knn.score(X_sc_eng_train,y_eng_train):.2%}')\n",
    "print(f'Engineered Testing Accuracy: {tuned_eng_knn.score(X_sc_eng_test,y_eng_test):.2%}')"
   ]
  },
  {
   "cell_type": "markdown",
   "metadata": {},
   "source": [
    "## Support Vector Machine (SVM)\n",
    "The final model we are going to examine our churn dataset with is a support vector machine. Support vector machines are very powerful models that generally perform very well. Let's take a look and see!"
   ]
  },
  {
   "cell_type": "code",
   "execution_count": null,
   "metadata": {},
   "outputs": [],
   "source": [
    "# Instantiate SVM.\n",
    "svc = SVC()"
   ]
  },
  {
   "cell_type": "code",
   "execution_count": null,
   "metadata": {},
   "outputs": [],
   "source": [
    "#Fit\n",
    "svc.fit(X_sc_train,y_train)\n",
    "\n",
    "print(f'Training Score: {svc.score(X_sc_train,y_train):.2%}')\n",
    "print(f'Test Score: {svc.score(X_sc_test,y_test):.2%}')"
   ]
  },
  {
   "cell_type": "markdown",
   "metadata": {},
   "source": [
    "Already we can see that this is scoring comparitive to our logistic regression model."
   ]
  },
  {
   "cell_type": "code",
   "execution_count": null,
   "metadata": {},
   "outputs": [],
   "source": [
    "#Generate Predictions\n",
    "preds=svc.predict(X_sc_test)\n",
    "print(classification_report(y_test,preds))\n",
    "cm = confusion_matrix(y_test,preds)\n",
    "ConfusionMatrixDisplay(confusion_matrix=cm, display_labels = svc.classes_).plot();"
   ]
  },
  {
   "cell_type": "code",
   "execution_count": null,
   "metadata": {},
   "outputs": [],
   "source": [
    "svc_params = {\n",
    "    'C':[0.1,0.2,0.3,0.4,0.5,0.6,0.7,0.8,0.9,1.0],\n",
    "    'gamma':['scale','auto'],\n",
    "    'class_weight':['balanced',None],\n",
    "    'break_ties':[True,False]\n",
    "}"
   ]
  },
  {
   "cell_type": "code",
   "execution_count": null,
   "metadata": {},
   "outputs": [],
   "source": [
    "#GridSearch\n",
    "svc_best = GridSearchCV(SVC(), svc_params,cv=10,verbose=1, n_jobs=3).fit(X_sc_train,y_train);"
   ]
  },
  {
   "cell_type": "code",
   "execution_count": null,
   "metadata": {},
   "outputs": [],
   "source": [
    "print(f'Our best parameters: {svc_best.best_params_}')\n",
    "print(f'Out best score: {round(svc_best.best_score_,3)}')"
   ]
  },
  {
   "cell_type": "markdown",
   "metadata": {},
   "source": [
    "Unfortunately it looks like even with an extensive gridsearch, we aren't seeing much improvement from our SVM. Let's see what effects our feature engineering has on our models."
   ]
  },
  {
   "cell_type": "code",
   "execution_count": null,
   "metadata": {},
   "outputs": [],
   "source": [
    "svc."
   ]
  }
 ],
 "metadata": {
  "kernelspec": {
   "display_name": "Python 3",
   "language": "python",
   "name": "python3"
  },
  "language_info": {
   "codemirror_mode": {
    "name": "ipython",
    "version": 3
   },
   "file_extension": ".py",
   "mimetype": "text/x-python",
   "name": "python",
   "nbconvert_exporter": "python",
   "pygments_lexer": "ipython3",
   "version": "3.8.5"
  }
 },
 "nbformat": 4,
 "nbformat_minor": 5
}
