{
 "cells": [
  {
   "cell_type": "markdown",
   "metadata": {},
   "source": [
    "# Modeling\n",
    "Matthew Mandel Hemsley"
   ]
  },
  {
   "cell_type": "markdown",
   "metadata": {},
   "source": [
    "### Remember: Churn in this dataset represents individuals who left within the last month\n",
    "Additionally, Accuaracy and Precision will be our most important metrics as we are attempting to minimize Type 2 Errors"
   ]
  },
  {
   "cell_type": "code",
   "execution_count": 1,
   "metadata": {},
   "outputs": [],
   "source": [
    "#Imports\n",
    "import pandas as pd\n",
    "import numpy as np\n",
    "import matplotlib.pyplot as plt\n",
    "\n",
    "from sklearn.preprocessing import StandardScaler\n",
    "from sklearn.model_selection import train_test_split\n",
    "from sklearn.linear_model import LogisticRegression\n",
    "from sklearn.metrics import confusion_matrix, ConfusionMatrixDisplay, classification_report\n",
    "from sklearn.neighbors import KNeighborsClassifier"
   ]
  },
  {
   "cell_type": "code",
   "execution_count": 2,
   "metadata": {},
   "outputs": [],
   "source": [
    "churn_df = pd.read_csv('./data/clean_churn.csv')"
   ]
  },
  {
   "cell_type": "markdown",
   "metadata": {},
   "source": [
    "To begin, let's review our dataset and make sure it imported correctly."
   ]
  },
  {
   "cell_type": "code",
   "execution_count": 3,
   "metadata": {},
   "outputs": [
    {
     "data": {
      "text/html": [
       "<div>\n",
       "<style scoped>\n",
       "    .dataframe tbody tr th:only-of-type {\n",
       "        vertical-align: middle;\n",
       "    }\n",
       "\n",
       "    .dataframe tbody tr th {\n",
       "        vertical-align: top;\n",
       "    }\n",
       "\n",
       "    .dataframe thead th {\n",
       "        text-align: right;\n",
       "    }\n",
       "</style>\n",
       "<table border=\"1\" class=\"dataframe\">\n",
       "  <thead>\n",
       "    <tr style=\"text-align: right;\">\n",
       "      <th></th>\n",
       "      <th>customerID</th>\n",
       "      <th>gender</th>\n",
       "      <th>SeniorCitizen</th>\n",
       "      <th>Partner</th>\n",
       "      <th>Dependents</th>\n",
       "      <th>tenure</th>\n",
       "      <th>PhoneService</th>\n",
       "      <th>OnlineSecurity</th>\n",
       "      <th>OnlineBackup</th>\n",
       "      <th>DeviceProtection</th>\n",
       "      <th>...</th>\n",
       "      <th>InternetService_DSL</th>\n",
       "      <th>InternetService_Fiber optic</th>\n",
       "      <th>InternetService_No</th>\n",
       "      <th>Contract_Month-to-month</th>\n",
       "      <th>Contract_One year</th>\n",
       "      <th>Contract_Two year</th>\n",
       "      <th>PaymentMethod_Bank transfer (automatic)</th>\n",
       "      <th>PaymentMethod_Credit card (automatic)</th>\n",
       "      <th>PaymentMethod_Electronic check</th>\n",
       "      <th>PaymentMethod_Mailed check</th>\n",
       "    </tr>\n",
       "  </thead>\n",
       "  <tbody>\n",
       "    <tr>\n",
       "      <th>0</th>\n",
       "      <td>7590-VHVEG</td>\n",
       "      <td>1</td>\n",
       "      <td>0</td>\n",
       "      <td>1</td>\n",
       "      <td>0</td>\n",
       "      <td>1</td>\n",
       "      <td>0</td>\n",
       "      <td>1</td>\n",
       "      <td>2</td>\n",
       "      <td>1</td>\n",
       "      <td>...</td>\n",
       "      <td>1</td>\n",
       "      <td>0</td>\n",
       "      <td>0</td>\n",
       "      <td>1</td>\n",
       "      <td>0</td>\n",
       "      <td>0</td>\n",
       "      <td>0</td>\n",
       "      <td>0</td>\n",
       "      <td>1</td>\n",
       "      <td>0</td>\n",
       "    </tr>\n",
       "    <tr>\n",
       "      <th>1</th>\n",
       "      <td>5575-GNVDE</td>\n",
       "      <td>0</td>\n",
       "      <td>0</td>\n",
       "      <td>0</td>\n",
       "      <td>0</td>\n",
       "      <td>34</td>\n",
       "      <td>1</td>\n",
       "      <td>2</td>\n",
       "      <td>1</td>\n",
       "      <td>2</td>\n",
       "      <td>...</td>\n",
       "      <td>1</td>\n",
       "      <td>0</td>\n",
       "      <td>0</td>\n",
       "      <td>0</td>\n",
       "      <td>1</td>\n",
       "      <td>0</td>\n",
       "      <td>0</td>\n",
       "      <td>0</td>\n",
       "      <td>0</td>\n",
       "      <td>1</td>\n",
       "    </tr>\n",
       "    <tr>\n",
       "      <th>2</th>\n",
       "      <td>3668-QPYBK</td>\n",
       "      <td>0</td>\n",
       "      <td>0</td>\n",
       "      <td>0</td>\n",
       "      <td>0</td>\n",
       "      <td>2</td>\n",
       "      <td>1</td>\n",
       "      <td>2</td>\n",
       "      <td>2</td>\n",
       "      <td>1</td>\n",
       "      <td>...</td>\n",
       "      <td>1</td>\n",
       "      <td>0</td>\n",
       "      <td>0</td>\n",
       "      <td>1</td>\n",
       "      <td>0</td>\n",
       "      <td>0</td>\n",
       "      <td>0</td>\n",
       "      <td>0</td>\n",
       "      <td>0</td>\n",
       "      <td>1</td>\n",
       "    </tr>\n",
       "    <tr>\n",
       "      <th>3</th>\n",
       "      <td>7795-CFOCW</td>\n",
       "      <td>0</td>\n",
       "      <td>0</td>\n",
       "      <td>0</td>\n",
       "      <td>0</td>\n",
       "      <td>45</td>\n",
       "      <td>0</td>\n",
       "      <td>2</td>\n",
       "      <td>1</td>\n",
       "      <td>2</td>\n",
       "      <td>...</td>\n",
       "      <td>1</td>\n",
       "      <td>0</td>\n",
       "      <td>0</td>\n",
       "      <td>0</td>\n",
       "      <td>1</td>\n",
       "      <td>0</td>\n",
       "      <td>1</td>\n",
       "      <td>0</td>\n",
       "      <td>0</td>\n",
       "      <td>0</td>\n",
       "    </tr>\n",
       "    <tr>\n",
       "      <th>4</th>\n",
       "      <td>9237-HQITU</td>\n",
       "      <td>1</td>\n",
       "      <td>0</td>\n",
       "      <td>0</td>\n",
       "      <td>0</td>\n",
       "      <td>2</td>\n",
       "      <td>1</td>\n",
       "      <td>1</td>\n",
       "      <td>1</td>\n",
       "      <td>1</td>\n",
       "      <td>...</td>\n",
       "      <td>0</td>\n",
       "      <td>1</td>\n",
       "      <td>0</td>\n",
       "      <td>1</td>\n",
       "      <td>0</td>\n",
       "      <td>0</td>\n",
       "      <td>0</td>\n",
       "      <td>0</td>\n",
       "      <td>1</td>\n",
       "      <td>0</td>\n",
       "    </tr>\n",
       "  </tbody>\n",
       "</table>\n",
       "<p>5 rows × 30 columns</p>\n",
       "</div>"
      ],
      "text/plain": [
       "   customerID  gender  SeniorCitizen  Partner  Dependents  tenure  \\\n",
       "0  7590-VHVEG       1              0        1           0       1   \n",
       "1  5575-GNVDE       0              0        0           0      34   \n",
       "2  3668-QPYBK       0              0        0           0       2   \n",
       "3  7795-CFOCW       0              0        0           0      45   \n",
       "4  9237-HQITU       1              0        0           0       2   \n",
       "\n",
       "   PhoneService  OnlineSecurity  OnlineBackup  DeviceProtection  ...  \\\n",
       "0             0               1             2                 1  ...   \n",
       "1             1               2             1                 2  ...   \n",
       "2             1               2             2                 1  ...   \n",
       "3             0               2             1                 2  ...   \n",
       "4             1               1             1                 1  ...   \n",
       "\n",
       "   InternetService_DSL  InternetService_Fiber optic  InternetService_No  \\\n",
       "0                    1                            0                   0   \n",
       "1                    1                            0                   0   \n",
       "2                    1                            0                   0   \n",
       "3                    1                            0                   0   \n",
       "4                    0                            1                   0   \n",
       "\n",
       "   Contract_Month-to-month  Contract_One year  Contract_Two year  \\\n",
       "0                        1                  0                  0   \n",
       "1                        0                  1                  0   \n",
       "2                        1                  0                  0   \n",
       "3                        0                  1                  0   \n",
       "4                        1                  0                  0   \n",
       "\n",
       "   PaymentMethod_Bank transfer (automatic)  \\\n",
       "0                                        0   \n",
       "1                                        0   \n",
       "2                                        0   \n",
       "3                                        1   \n",
       "4                                        0   \n",
       "\n",
       "   PaymentMethod_Credit card (automatic)  PaymentMethod_Electronic check  \\\n",
       "0                                      0                               1   \n",
       "1                                      0                               0   \n",
       "2                                      0                               0   \n",
       "3                                      0                               0   \n",
       "4                                      0                               1   \n",
       "\n",
       "   PaymentMethod_Mailed check  \n",
       "0                           0  \n",
       "1                           1  \n",
       "2                           1  \n",
       "3                           0  \n",
       "4                           0  \n",
       "\n",
       "[5 rows x 30 columns]"
      ]
     },
     "execution_count": 3,
     "metadata": {},
     "output_type": "execute_result"
    }
   ],
   "source": [
    "churn_df.head()"
   ]
  },
  {
   "cell_type": "code",
   "execution_count": 4,
   "metadata": {},
   "outputs": [],
   "source": [
    "#Setting index to customerID\n",
    "churn_df.set_index('customerID',inplace=True)"
   ]
  },
  {
   "cell_type": "code",
   "execution_count": 18,
   "metadata": {},
   "outputs": [
    {
     "data": {
      "text/plain": [
       "customerID\n",
       "7590-VHVEG      29.85\n",
       "5575-GNVDE    1889.50\n",
       "3668-QPYBK     108.15\n",
       "7795-CFOCW    1840.75\n",
       "9237-HQITU     151.65\n",
       "               ...   \n",
       "8637-XJIVR     927.35\n",
       "9803-FTJCG    4748.70\n",
       "0278-YXOOG     113.85\n",
       "3212-KXOCR    1107.20\n",
       "4598-XLKNJ    2514.50\n",
       "Name: TotalCharges, Length: 100, dtype: float64"
      ]
     },
     "execution_count": 18,
     "metadata": {},
     "output_type": "execute_result"
    }
   ],
   "source": [
    "churn_df['TotalCharges'].head(100)"
   ]
  },
  {
   "cell_type": "markdown",
   "metadata": {},
   "source": [
    "## Training\n",
    "We will be using all the features in our dataset to predict our y, Churn. Additionally, we will be stratifing during our train/test split in order to offset our imbalanced Churn class."
   ]
  },
  {
   "cell_type": "code",
   "execution_count": 5,
   "metadata": {},
   "outputs": [],
   "source": [
    "#Train/Test Split\n",
    "X = churn_df.drop(columns=['Churn'])\n",
    "y = churn_df['Churn']\n",
    "\n",
    "X_train,X_test,y_train,y_test = train_test_split(X,y, random_state=42, stratify=y)"
   ]
  },
  {
   "cell_type": "code",
   "execution_count": 6,
   "metadata": {},
   "outputs": [],
   "source": [
    "#Scaling our data\n",
    "stan = StandardScaler()\n",
    "X_sc_train = stan.fit_transform(X_train)\n",
    "X_sc_test = stan.transform(X_test)"
   ]
  },
  {
   "cell_type": "markdown",
   "metadata": {},
   "source": [
    "We are just going to fit to a standard logistic regression model to create a baseline for us to compare our future models with. While we could simply use a standard of 50%, one of the goals of this notebook is to compare models and statistical techiniques across the same churn dataset. As we will see, a logistic regression model with default parameters scores very well on our dataset as is, so our challenge will be to not only develop a better model, but also identify which features contribute to higher accuracy and recall metrics, which will be our primary comparisons for our models."
   ]
  },
  {
   "cell_type": "code",
   "execution_count": 7,
   "metadata": {},
   "outputs": [
    {
     "name": "stdout",
     "output_type": "stream",
     "text": [
      "Training Accuracy: 80.39%\n",
      "Testing Accuracy: 80.60%\n"
     ]
    }
   ],
   "source": [
    "#Instantiate/Fit/Score Default Logistic Regression Model\n",
    "logreg = LogisticRegression()\n",
    "logreg.fit(X_sc_train,y_train)\n",
    "\n",
    "print(f'Training Accuracy: {logreg.score(X_sc_train,y_train):.2%}')\n",
    "print(f'Testing Accuracy: {logreg.score(X_sc_test,y_test):.2%}')"
   ]
  },
  {
   "cell_type": "markdown",
   "metadata": {},
   "source": [
    "We can see from these scores that not only does our logistic regression model predict 80% of the varience of our data, but our model is relatively fit, though clearly there is room for improvement. "
   ]
  },
  {
   "cell_type": "markdown",
   "metadata": {},
   "source": [
    "### Logistic Coefficent Analysis"
   ]
  },
  {
   "cell_type": "code",
   "execution_count": 8,
   "metadata": {},
   "outputs": [
    {
     "name": "stdout",
     "output_type": "stream",
     "text": [
      "# of Features: 28\n",
      "# of Coefficents: 28\n"
     ]
    }
   ],
   "source": [
    "#Double checking our coefficents and features are the same length\n",
    "print(f'# of Features: {len(X_test.columns)}')\n",
    "print(f'# of Coefficents: {len(logreg.coef_[0])}')"
   ]
  },
  {
   "cell_type": "markdown",
   "metadata": {},
   "source": [
    "Let's take a look at each feature and it's corresponding coefficent. First however we should discuss the impact of our imbalanced churn class. Since we know we have imbalanced classes, we should be careful at how much we value each coefficient's impact on our model. As such, I've decided to only look at the features with coefficents higher that 0.1 or lower than -0.1."
   ]
  },
  {
   "cell_type": "code",
   "execution_count": 9,
   "metadata": {
    "scrolled": true
   },
   "outputs": [
    {
     "name": "stdout",
     "output_type": "stream",
     "text": [
      "Column Name: Dependents\n",
      "Coefficent: -0.11247280114479129\n",
      "\n",
      "Column Name: tenure\n",
      "Coefficent: -1.3417396719794847\n",
      "\n",
      "Column Name: OnlineSecurity\n",
      "Coefficent: -0.2043358825323355\n",
      "\n",
      "Column Name: DeviceProtection\n",
      "Coefficent: 0.10699939299318269\n",
      "\n",
      "Column Name: TechSupport\n",
      "Coefficent: -0.2016040677851372\n",
      "\n",
      "Column Name: StreamingTV\n",
      "Coefficent: 0.4290791500362114\n",
      "\n",
      "Column Name: StreamingMovies\n",
      "Coefficent: 0.39648165074657055\n",
      "\n",
      "Column Name: PaperlessBilling\n",
      "Coefficent: 0.16113608731809384\n",
      "\n",
      "Column Name: MonthlyCharges\n",
      "Coefficent: -0.9732620228457759\n",
      "\n",
      "Column Name: TotalCharges\n",
      "Coefficent: 0.6356688575308398\n",
      "\n",
      "Column Name: MultipleLines_No\n",
      "Coefficent: -0.10319000498940355\n",
      "\n",
      "Column Name: MultipleLines_Yes\n",
      "Coefficent: 0.12299045104705696\n",
      "\n",
      "Column Name: InternetService_DSL\n",
      "Coefficent: -0.15627353772744387\n",
      "\n",
      "Column Name: InternetService_Fiber optic\n",
      "Coefficent: 0.6224223397458333\n",
      "\n",
      "Column Name: InternetService_No\n",
      "Coefficent: -0.5707827501217125\n",
      "\n",
      "Column Name: Contract_Month-to-month\n",
      "Coefficent: 0.3050882154265176\n",
      "\n",
      "Column Name: Contract_Two year\n",
      "Coefficent: -0.3249479494109074\n",
      "\n",
      "Column Name: PaymentMethod_Electronic check\n",
      "Coefficent: 0.1026861328113691\n",
      "\n"
     ]
    }
   ],
   "source": [
    "#Loop to print coefficents and features\n",
    "for i, column in enumerate(X_test.columns):\n",
    "    if logreg.coef_[0][i] < -0.1 or logreg.coef_[0][i] > 0.1:\n",
    "        print(f'Column Name: {column}')\n",
    "        print(f'Coefficent: {logreg.coef_[0][i]}')\n",
    "        print('')\n",
    "    "
   ]
  },
  {
   "cell_type": "markdown",
   "metadata": {},
   "source": [
    "### Logistic Regression Coefficents\n",
    "\n",
    "<ul>\n",
    "    <li><b>Dependents: -0.1125</b> - Customers with dependents are less likely to churn.</li>\n",
    "        <li><b>Tenure: -1.3417</b> - The most impactful feature, this coefficent shows that, based on our model and our dataset, the longer an individual is a customer, the less likely they are to churn. </li>\n",
    "    <li><b>OnlineSecurity: -0.2043</b> - Interestingly, we can see that customers who utilize the Online Security service are less likely to churn.</li>\n",
    "    <li><b>DeviceProtection: 0.107</b> - This feature barely passed our filter, and suggests that customers who utlize the Device Protection service are more likely to churn. It may also indicate that the Device Protection service is not satisfying customer needs and resulting in churn. Either way, this feature warrents a closer examination outside the scope of this dataset and project.</li>\n",
    "    <li><b>TechSupport: -0.2016</b> - Similarly to Online Security, this coefficent indicates that customers who utlize the Tech Support service are less likely to churn.</li>\n",
    "    <li><b>StreamingTV: 0.4291</b> - Perplexingly, according to our dataset, customers who utilize the Streaming TV service are substantially more likley to churn than those that do not. This warrents further exploration, but I believe this maybe a result of competitors such as Netflix or Hulu. We would require specific user metrics in order to explore this further.</li>\n",
    "    <li><b>StreamingMovies: 0.3965</b> - I am going to make the same conclusions that I did for StreamingTV</li>\n",
    "    <li><b>PaperlessBilling: 0.1611</b> - \n",
    "</ul>\n",
    "\n",
    "Now, lets take a quick look at the excluded coefficents seperately.\n",
    "\n",
    "<ul>\n",
    "    <li><b>Gender: 0.0182</b> - While this coefficent indicates that being female suggests one is more likely to churn, due to the magnitude of the coefficent, we can disregard this. This is because we know, due to our imbalanced churn class, there maybe misleading indicators. </li>\n",
    "    <li><b>SeniorCitizen: 0.0715</b> - Our coefficent for SeniorCitizen is small, but positive, suggesting that those  </li>\n",
    "</ul>"
   ]
  },
  {
   "cell_type": "code",
   "execution_count": 10,
   "metadata": {},
   "outputs": [],
   "source": [
    "#Classification Model Analysis Function\n",
    "# def analyize_class_model(fitted_model,X_test,y_test):\n",
    "#     temp_df = pd.DataFrame({'true_values':y_test,\n",
    "#                            'predicted_probability':fitted_model.predict_proba(X_test)[:,1]})\n",
    "#     for "
   ]
  },
  {
   "cell_type": "code",
   "execution_count": 11,
   "metadata": {},
   "outputs": [],
   "source": [
    "#Generate Predictions\n",
    "preds=logreg.predict(X_sc_test)"
   ]
  },
  {
   "cell_type": "code",
   "execution_count": 12,
   "metadata": {},
   "outputs": [
    {
     "name": "stdout",
     "output_type": "stream",
     "text": [
      "              precision    recall  f1-score   support\n",
      "\n",
      "           0       0.85      0.89      0.87      1291\n",
      "           1       0.65      0.57      0.61       467\n",
      "\n",
      "    accuracy                           0.81      1758\n",
      "   macro avg       0.75      0.73      0.74      1758\n",
      "weighted avg       0.80      0.81      0.80      1758\n",
      "\n"
     ]
    },
    {
     "data": {
      "image/png": "[encoded data removed]",
      "text/plain": [
       "<Figure size 432x288 with 2 Axes>"
      ]
     },
     "metadata": {
      "needs_background": "light"
     },
     "output_type": "display_data"
    }
   ],
   "source": [
    "print(classification_report(y_test,preds))\n",
    "cm = confusion_matrix(y_test,preds)\n",
    "\n",
    "ConfusionMatrixDisplay(confusion_matrix=cm, display_labels = logreg.classes_).plot();"
   ]
  },
  {
   "cell_type": "markdown",
   "metadata": {},
   "source": [
    "The above confusion matrix shows a breakdown of our predictions. Our model predicted we would churn 410 customers. Of those predicted, 268 were correct. 199 customers churned out of 1149 we predicted would not churn. "
   ]
  },
  {
   "cell_type": "code",
   "execution_count": 13,
   "metadata": {},
   "outputs": [
    {
     "name": "stdout",
     "output_type": "stream",
     "text": [
      "Training Score: 83.67%\n",
      "Test Score: 75.03%\n"
     ]
    }
   ],
   "source": [
    "#KNearest Neighbors\n",
    "knn = KNeighborsClassifier()\n",
    "knn.fit(X_sc_train,y_train)\n",
    "\n",
    "print(f'Training Score: {knn.score(X_sc_train,y_train):.2%}')\n",
    "print(f'Test Score: {knn.score(X_sc_test,y_test):.2%}')"
   ]
  },
  {
   "cell_type": "code",
   "execution_count": 14,
   "metadata": {},
   "outputs": [
    {
     "name": "stdout",
     "output_type": "stream",
     "text": [
      "              precision    recall  f1-score   support\n",
      "\n",
      "           0       0.83      0.83      0.83      1291\n",
      "           1       0.53      0.54      0.53       467\n",
      "\n",
      "    accuracy                           0.75      1758\n",
      "   macro avg       0.68      0.68      0.68      1758\n",
      "weighted avg       0.75      0.75      0.75      1758\n",
      "\n"
     ]
    },
    {
     "data": {
      "image/png": "[encoded data removed]",
      "text/plain": [
       "<Figure size 432x288 with 2 Axes>"
      ]
     },
     "metadata": {
      "needs_background": "light"
     },
     "output_type": "display_data"
    }
   ],
   "source": [
    "#Generate Predictions\n",
    "preds=knn.predict(X_sc_test)\n",
    "print(classification_report(y_test,preds))\n",
    "cm = confusion_matrix(y_test,preds)\n",
    "ConfusionMatrixDisplay(confusion_matrix=cm, display_labels = knn.classes_).plot();"
   ]
  }
 ],
 "metadata": {
  "kernelspec": {
   "display_name": "Python 3",
   "language": "python",
   "name": "python3"
  },
  "language_info": {
   "codemirror_mode": {
    "name": "ipython",
    "version": 3
   },
   "file_extension": ".py",
   "mimetype": "text/x-python",
   "name": "python",
   "nbconvert_exporter": "python",
   "pygments_lexer": "ipython3",
   "version": "3.8.5"
  }
 },
 "nbformat": 4,
 "nbformat_minor": 5
}
