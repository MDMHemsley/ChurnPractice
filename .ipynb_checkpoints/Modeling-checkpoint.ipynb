{
 "cells": [
  {
   "cell_type": "markdown",
   "metadata": {},
   "source": [
    "# Modeling\n",
    "Matthew Mandel Hemsley"
   ]
  },
  {
   "cell_type": "markdown",
   "metadata": {},
   "source": [
    "### Remember: Churn in this dataset represents individuals who left within the last month\n",
    "Additionally, Accuaracy and Precision will be our most important metrics as we are attempting to minimize Type 2 Errors"
   ]
  },
  {
   "cell_type": "code",
   "execution_count": 1,
   "metadata": {},
   "outputs": [],
   "source": [
    "#Imports\n",
    "import pandas as pd\n",
    "import numpy as np\n",
    "import matplotlib.pyplot as plt\n",
    "import statsmodels.api as sm\n",
    " \n",
    "from sklearn.preprocessing import StandardScaler\n",
    "from sklearn.model_selection import train_test_split, GridSearchCV\n",
    "from sklearn.linear_model import LogisticRegression\n",
    "from sklearn.metrics import confusion_matrix, ConfusionMatrixDisplay, classification_report\n",
    "from sklearn.neighbors import KNeighborsClassifier\n",
    "from sklearn.svm import SVC"
   ]
  },
  {
   "cell_type": "code",
   "execution_count": 2,
   "metadata": {},
   "outputs": [],
   "source": [
    "churn_df = pd.read_csv('./data/clean_churn.csv')"
   ]
  },
  {
   "cell_type": "markdown",
   "metadata": {},
   "source": [
    "To begin, let's review our dataset and make sure it imported correctly."
   ]
  },
  {
   "cell_type": "code",
   "execution_count": 3,
   "metadata": {},
   "outputs": [
    {
     "data": {
      "text/html": [
       "<div>\n",
       "<style scoped>\n",
       "    .dataframe tbody tr th:only-of-type {\n",
       "        vertical-align: middle;\n",
       "    }\n",
       "\n",
       "    .dataframe tbody tr th {\n",
       "        vertical-align: top;\n",
       "    }\n",
       "\n",
       "    .dataframe thead th {\n",
       "        text-align: right;\n",
       "    }\n",
       "</style>\n",
       "<table border=\"1\" class=\"dataframe\">\n",
       "  <thead>\n",
       "    <tr style=\"text-align: right;\">\n",
       "      <th></th>\n",
       "      <th>customerID</th>\n",
       "      <th>gender</th>\n",
       "      <th>SeniorCitizen</th>\n",
       "      <th>Partner</th>\n",
       "      <th>Dependents</th>\n",
       "      <th>tenure</th>\n",
       "      <th>PhoneService</th>\n",
       "      <th>OnlineSecurity</th>\n",
       "      <th>OnlineBackup</th>\n",
       "      <th>DeviceProtection</th>\n",
       "      <th>...</th>\n",
       "      <th>InternetService_DSL</th>\n",
       "      <th>InternetService_Fiber optic</th>\n",
       "      <th>InternetService_No</th>\n",
       "      <th>Contract_Month-to-month</th>\n",
       "      <th>Contract_One year</th>\n",
       "      <th>Contract_Two year</th>\n",
       "      <th>PaymentMethod_Bank transfer (automatic)</th>\n",
       "      <th>PaymentMethod_Credit card (automatic)</th>\n",
       "      <th>PaymentMethod_Electronic check</th>\n",
       "      <th>PaymentMethod_Mailed check</th>\n",
       "    </tr>\n",
       "  </thead>\n",
       "  <tbody>\n",
       "    <tr>\n",
       "      <th>0</th>\n",
       "      <td>7590-VHVEG</td>\n",
       "      <td>1</td>\n",
       "      <td>0</td>\n",
       "      <td>1</td>\n",
       "      <td>0</td>\n",
       "      <td>1</td>\n",
       "      <td>0</td>\n",
       "      <td>1</td>\n",
       "      <td>2</td>\n",
       "      <td>1</td>\n",
       "      <td>...</td>\n",
       "      <td>1</td>\n",
       "      <td>0</td>\n",
       "      <td>0</td>\n",
       "      <td>1</td>\n",
       "      <td>0</td>\n",
       "      <td>0</td>\n",
       "      <td>0</td>\n",
       "      <td>0</td>\n",
       "      <td>1</td>\n",
       "      <td>0</td>\n",
       "    </tr>\n",
       "    <tr>\n",
       "      <th>1</th>\n",
       "      <td>5575-GNVDE</td>\n",
       "      <td>0</td>\n",
       "      <td>0</td>\n",
       "      <td>0</td>\n",
       "      <td>0</td>\n",
       "      <td>34</td>\n",
       "      <td>1</td>\n",
       "      <td>2</td>\n",
       "      <td>1</td>\n",
       "      <td>2</td>\n",
       "      <td>...</td>\n",
       "      <td>1</td>\n",
       "      <td>0</td>\n",
       "      <td>0</td>\n",
       "      <td>0</td>\n",
       "      <td>1</td>\n",
       "      <td>0</td>\n",
       "      <td>0</td>\n",
       "      <td>0</td>\n",
       "      <td>0</td>\n",
       "      <td>1</td>\n",
       "    </tr>\n",
       "    <tr>\n",
       "      <th>2</th>\n",
       "      <td>3668-QPYBK</td>\n",
       "      <td>0</td>\n",
       "      <td>0</td>\n",
       "      <td>0</td>\n",
       "      <td>0</td>\n",
       "      <td>2</td>\n",
       "      <td>1</td>\n",
       "      <td>2</td>\n",
       "      <td>2</td>\n",
       "      <td>1</td>\n",
       "      <td>...</td>\n",
       "      <td>1</td>\n",
       "      <td>0</td>\n",
       "      <td>0</td>\n",
       "      <td>1</td>\n",
       "      <td>0</td>\n",
       "      <td>0</td>\n",
       "      <td>0</td>\n",
       "      <td>0</td>\n",
       "      <td>0</td>\n",
       "      <td>1</td>\n",
       "    </tr>\n",
       "    <tr>\n",
       "      <th>3</th>\n",
       "      <td>7795-CFOCW</td>\n",
       "      <td>0</td>\n",
       "      <td>0</td>\n",
       "      <td>0</td>\n",
       "      <td>0</td>\n",
       "      <td>45</td>\n",
       "      <td>0</td>\n",
       "      <td>2</td>\n",
       "      <td>1</td>\n",
       "      <td>2</td>\n",
       "      <td>...</td>\n",
       "      <td>1</td>\n",
       "      <td>0</td>\n",
       "      <td>0</td>\n",
       "      <td>0</td>\n",
       "      <td>1</td>\n",
       "      <td>0</td>\n",
       "      <td>1</td>\n",
       "      <td>0</td>\n",
       "      <td>0</td>\n",
       "      <td>0</td>\n",
       "    </tr>\n",
       "    <tr>\n",
       "      <th>4</th>\n",
       "      <td>9237-HQITU</td>\n",
       "      <td>1</td>\n",
       "      <td>0</td>\n",
       "      <td>0</td>\n",
       "      <td>0</td>\n",
       "      <td>2</td>\n",
       "      <td>1</td>\n",
       "      <td>1</td>\n",
       "      <td>1</td>\n",
       "      <td>1</td>\n",
       "      <td>...</td>\n",
       "      <td>0</td>\n",
       "      <td>1</td>\n",
       "      <td>0</td>\n",
       "      <td>1</td>\n",
       "      <td>0</td>\n",
       "      <td>0</td>\n",
       "      <td>0</td>\n",
       "      <td>0</td>\n",
       "      <td>1</td>\n",
       "      <td>0</td>\n",
       "    </tr>\n",
       "  </tbody>\n",
       "</table>\n",
       "<p>5 rows × 30 columns</p>\n",
       "</div>"
      ],
      "text/plain": [
       "   customerID  gender  SeniorCitizen  Partner  Dependents  tenure  \\\n",
       "0  7590-VHVEG       1              0        1           0       1   \n",
       "1  5575-GNVDE       0              0        0           0      34   \n",
       "2  3668-QPYBK       0              0        0           0       2   \n",
       "3  7795-CFOCW       0              0        0           0      45   \n",
       "4  9237-HQITU       1              0        0           0       2   \n",
       "\n",
       "   PhoneService  OnlineSecurity  OnlineBackup  DeviceProtection  ...  \\\n",
       "0             0               1             2                 1  ...   \n",
       "1             1               2             1                 2  ...   \n",
       "2             1               2             2                 1  ...   \n",
       "3             0               2             1                 2  ...   \n",
       "4             1               1             1                 1  ...   \n",
       "\n",
       "   InternetService_DSL  InternetService_Fiber optic  InternetService_No  \\\n",
       "0                    1                            0                   0   \n",
       "1                    1                            0                   0   \n",
       "2                    1                            0                   0   \n",
       "3                    1                            0                   0   \n",
       "4                    0                            1                   0   \n",
       "\n",
       "   Contract_Month-to-month  Contract_One year  Contract_Two year  \\\n",
       "0                        1                  0                  0   \n",
       "1                        0                  1                  0   \n",
       "2                        1                  0                  0   \n",
       "3                        0                  1                  0   \n",
       "4                        1                  0                  0   \n",
       "\n",
       "   PaymentMethod_Bank transfer (automatic)  \\\n",
       "0                                        0   \n",
       "1                                        0   \n",
       "2                                        0   \n",
       "3                                        1   \n",
       "4                                        0   \n",
       "\n",
       "   PaymentMethod_Credit card (automatic)  PaymentMethod_Electronic check  \\\n",
       "0                                      0                               1   \n",
       "1                                      0                               0   \n",
       "2                                      0                               0   \n",
       "3                                      0                               0   \n",
       "4                                      0                               1   \n",
       "\n",
       "   PaymentMethod_Mailed check  \n",
       "0                           0  \n",
       "1                           1  \n",
       "2                           1  \n",
       "3                           0  \n",
       "4                           0  \n",
       "\n",
       "[5 rows x 30 columns]"
      ]
     },
     "execution_count": 3,
     "metadata": {},
     "output_type": "execute_result"
    }
   ],
   "source": [
    "churn_df.head()"
   ]
  },
  {
   "cell_type": "code",
   "execution_count": 4,
   "metadata": {},
   "outputs": [],
   "source": [
    "#Setting index to customerID\n",
    "churn_df.set_index('customerID',inplace=True)"
   ]
  },
  {
   "cell_type": "markdown",
   "metadata": {},
   "source": [
    "Let's take a look at each feature and it's corresponding coefficent. First however we should discuss the impact of our imbalanced churn class. Since we know we have imbalanced classes, we should be careful at how much we value each coefficient's impact on our model. We will be using the StatsModel API to create a very quick summary of our dataset to examine before creating our first proper model."
   ]
  },
  {
   "cell_type": "code",
   "execution_count": 5,
   "metadata": {},
   "outputs": [
    {
     "name": "stdout",
     "output_type": "stream",
     "text": [
      "Optimization terminated successfully.\n",
      "         Current function value: 0.414269\n",
      "         Iterations 9\n",
      "                           Logit Regression Results                           \n",
      "==============================================================================\n",
      "Dep. Variable:                  Churn   No. Observations:                 7032\n",
      "Model:                          Logit   Df Residuals:                     7008\n",
      "Method:                           MLE   Df Model:                           23\n",
      "Date:                Wed, 12 May 2021   Pseudo R-squ.:                  0.2845\n",
      "Time:                        21:14:11   Log-Likelihood:                -2913.1\n",
      "converged:                       True   LL-Null:                       -4071.7\n",
      "Covariance Type:            nonrobust   LLR p-value:                     0.000\n",
      "===========================================================================================================\n",
      "                                              coef    std err          z      P>|z|      [0.025      0.975]\n",
      "-----------------------------------------------------------------------------------------------------------\n",
      "gender                                      0.0218      0.065      0.337      0.736      -0.105       0.149\n",
      "SeniorCitizen                               0.2168      0.085      2.564      0.010       0.051       0.382\n",
      "Partner                                    -0.0004      0.078     -0.005      0.996      -0.153       0.152\n",
      "Dependents                                 -0.1485      0.090     -1.655      0.098      -0.324       0.027\n",
      "tenure                                     -0.0606      0.006     -9.716      0.000      -0.073      -0.048\n",
      "PhoneService                                9.9384   1.78e+06   5.58e-06      1.000   -3.49e+06    3.49e+06\n",
      "OnlineSecurity                             -0.2054      0.179     -1.150      0.250      -0.556       0.145\n",
      "OnlineBackup                                0.0260      0.175      0.148      0.882      -0.318       0.370\n",
      "DeviceProtection                            0.1474      0.176      0.836      0.403      -0.198       0.493\n",
      "TechSupport                                -0.1805      0.181     -0.999      0.318      -0.534       0.173\n",
      "StreamingTV                                 0.5905      0.326      1.810      0.070      -0.049       1.230\n",
      "StreamingMovies                             0.5993      0.327      1.834      0.067      -0.041       1.240\n",
      "PaperlessBilling                            0.3424      0.074      4.596      0.000       0.196       0.488\n",
      "MonthlyCharges                             -0.0403      0.032     -1.270      0.204      -0.103       0.022\n",
      "TotalCharges                                0.0003   7.06e-05      4.657      0.000       0.000       0.000\n",
      "MultipleLines_No                           -2.6086   3.99e+06  -6.53e-07      1.000   -7.83e+06    7.83e+06\n",
      "MultipleLines_No phone service              7.1583   4.11e+06   1.74e-06      1.000   -8.05e+06    8.05e+06\n",
      "MultipleLines_Yes                          -2.1602   4.21e+06  -5.13e-07      1.000   -8.25e+06    8.25e+06\n",
      "InternetService_DSL                        -7.6267        nan        nan        nan         nan         nan\n",
      "InternetService_Fiber optic                -5.8792        nan        nan        nan         nan         nan\n",
      "InternetService_No                         -8.4357        nan        nan        nan         nan         nan\n",
      "Contract_Month-to-month                     0.6736        nan        nan        nan         nan         nan\n",
      "Contract_One year                           0.0128        nan        nan        nan         nan         nan\n",
      "Contract_Two year                          -0.6835        nan        nan        nan         nan         nan\n",
      "PaymentMethod_Bank transfer (automatic)    -0.0390   3.86e+06  -1.01e-08      1.000   -7.56e+06    7.56e+06\n",
      "PaymentMethod_Credit card (automatic)      -0.1268   3.86e+06  -3.29e-08      1.000   -7.56e+06    7.56e+06\n",
      "PaymentMethod_Electronic check              0.2654   3.86e+06   6.88e-08      1.000   -7.56e+06    7.56e+06\n",
      "PaymentMethod_Mailed check                 -0.0966   3.86e+06   -2.5e-08      1.000   -7.56e+06    7.56e+06\n",
      "===========================================================================================================\n"
     ]
    }
   ],
   "source": [
    "### Logistic Coefficent Analysis\n",
    "results = sm.Logit(churn_df['Churn'],churn_df.drop(columns=['Churn'])).fit()\n",
    "print(results.summary())"
   ]
  },
  {
   "cell_type": "markdown",
   "metadata": {},
   "source": [
    "### Logistic Regression Coefficents\n",
    "\n",
    "<ul>\n",
    "<li><b> gender :</b> 0.02183 </li>\n",
    "<li><b> SeniorCitizen :</b> 0.21678 </li>\n",
    "<li><b> Partner :</b> -0.00038 </li>\n",
    "<li><b> Dependents :</b> -0.14849 </li>\n",
    "<li><b> tenure :</b> -0.06059 </li>\n",
    "<li><b> PhoneService :</b> 9.93839 </li>\n",
    "<li><b> OnlineSecurity :</b> -0.20542 </li>\n",
    "<li><b> OnlineBackup :</b> 0.02604 </li>\n",
    "<li><b> DeviceProtection :</b> 0.14737 </li>\n",
    "<li><b> TechSupport :</b> -0.1805 </li>\n",
    "<li><b> StreamingTV :</b> 0.59051 </li>\n",
    "<li><b> StreamingMovies :</b> 0.5993 </li>\n",
    "<li><b> PaperlessBilling :</b> 0.34235 </li>\n",
    "<li><b> MonthlyCharges :</b> -0.04034 </li>\n",
    "<li><b> TotalCharges :</b> 0.00033 </li>\n",
    "\n",
    "<li><b> MultipleLines_No :</b>-2.60859</li>\n",
    "<li><b> MultipleLines_No phone service :</b> 7.15833   </li>\n",
    "<li><b> MultipleLines_Yes :</b> -2.1602 </li>\n",
    "<li><b> InternetService_DSL :</b> -7.62672 </li>\n",
    "<li><b> InternetService_Fiber optic :</b> -5.87925 </li>\n",
    "<li><b> InternetService_No :</b> -8.43571 </li>\n",
    "<li><b> Contract_Month-to-month :</b> 0.6736 </li>\n",
    "<li><b> Contract_One year :</b> 0.0128 </li>\n",
    "<li><b> Contract_Two year :</b> -0.68351 </li>\n",
    "<li><b> PaymentMethod_Bank transfer (automatic) :</b> -0.03905 </li>\n",
    "<li><b> PaymentMethod_Credit card (automatic) :</b> -0.12684 </li>\n",
    "<li><b> PaymentMethod_Electronic check :</b> 0.26542</li>\n",
    "    <li><b>PaymentMethod_Mailed check:</b> -0.09664 </li>\n",
    "</ul>"
   ]
  },
  {
   "cell_type": "markdown",
   "metadata": {},
   "source": [
    "## Train/Test Split\n",
    "We will be using all the features in our dataset to predict our y, Churn. Additionally, we will be stratifing during our train/test split in order to offset our imbalanced Churn class."
   ]
  },
  {
   "cell_type": "code",
   "execution_count": 6,
   "metadata": {},
   "outputs": [],
   "source": [
    "#Train/Test Split\n",
    "X = churn_df.drop(columns=['Churn'])\n",
    "y = churn_df['Churn']\n",
    "X_train,X_test,y_train,y_test = train_test_split(X,y, random_state=42, stratify=y)"
   ]
  },
  {
   "cell_type": "code",
   "execution_count": 7,
   "metadata": {},
   "outputs": [],
   "source": [
    "#Scaling our data\n",
    "stan = StandardScaler()\n",
    "X_sc_train = stan.fit_transform(X_train)\n",
    "X_sc_test = stan.transform(X_test)"
   ]
  },
  {
   "cell_type": "markdown",
   "metadata": {},
   "source": [
    "## Logistic Regression\n",
    "We are just going to fit to a standard logistic regression model to create a baseline for us to compare our future models with. While we could simply use a standard of 50%, one of the goals of this notebook is to compare models and statistical techiniques across the same churn dataset. As we will see, a logistic regression model with default parameters scores very well on our dataset as is, so our challenge will be to not only develop a better model, but also identify which features contribute to higher accuracy and recall metrics, which will be our primary comparisons for our models."
   ]
  },
  {
   "cell_type": "code",
   "execution_count": 8,
   "metadata": {},
   "outputs": [
    {
     "name": "stdout",
     "output_type": "stream",
     "text": [
      "Training Accuracy: 80.39%\n",
      "Testing Accuracy: 80.60%\n"
     ]
    }
   ],
   "source": [
    "#Instantiate/Fit/Score Default Logistic Regression Model\n",
    "logit = LogisticRegression()\n",
    "logit.fit(X_sc_train,y_train)\n",
    "\n",
    "print(f'Training Accuracy: {logit.score(X_sc_train,y_train):.2%}')\n",
    "print(f'Testing Accuracy: {logit.score(X_sc_test,y_test):.2%}')"
   ]
  },
  {
   "cell_type": "markdown",
   "metadata": {},
   "source": [
    "We can see from these scores that not only does our logistic regression model predict 80% of the varience of our data, but our model is relatively fit, though clearly there is room for improvement. "
   ]
  },
  {
   "cell_type": "code",
   "execution_count": 9,
   "metadata": {},
   "outputs": [],
   "source": [
    "#Generate Predictions\n",
    "preds=logit.predict(X_sc_test)"
   ]
  },
  {
   "cell_type": "code",
   "execution_count": 10,
   "metadata": {},
   "outputs": [
    {
     "name": "stdout",
     "output_type": "stream",
     "text": [
      "              precision    recall  f1-score   support\n",
      "\n",
      "           0       0.85      0.89      0.87      1291\n",
      "           1       0.65      0.57      0.61       467\n",
      "\n",
      "    accuracy                           0.81      1758\n",
      "   macro avg       0.75      0.73      0.74      1758\n",
      "weighted avg       0.80      0.81      0.80      1758\n",
      "\n"
     ]
    },
    {
     "data": {
      "image/png": "[encoded data removed]",
      "text/plain": [
       "<Figure size 432x288 with 2 Axes>"
      ]
     },
     "metadata": {
      "needs_background": "light"
     },
     "output_type": "display_data"
    }
   ],
   "source": [
    "print(classification_report(y_test,preds))\n",
    "cm = confusion_matrix(y_test,preds)\n",
    "\n",
    "ConfusionMatrixDisplay(confusion_matrix=cm, display_labels = logit.classes_).plot();"
   ]
  },
  {
   "cell_type": "markdown",
   "metadata": {},
   "source": [
    "The above confusion matrix shows a breakdown of our predictions. Our model predicted we would churn 410 customers. Of those predicted, 268 were correct. 199 customers churned out of 1149 we predicted would not churn. Though we have the option to tune our model, a quick gridsearch will reveal that our defaults actually produce the best result."
   ]
  },
  {
   "cell_type": "code",
   "execution_count": 11,
   "metadata": {},
   "outputs": [],
   "source": [
    "logit_params = {\n",
    "    'penalty':['l1','l2'],\n",
    "    'class_weight':['balanced',None],\n",
    "    'solver':['lbfgs','liblinear','']\n",
    "}"
   ]
  },
  {
   "cell_type": "code",
   "execution_count": 27,
   "metadata": {},
   "outputs": [],
   "source": [
    "logit_best = GridSearchCV(LogisticRegression(), logit_params,cv=10,verbose=0,n_jobs=3).fit(X_sc_train,y_train);"
   ]
  },
  {
   "cell_type": "code",
   "execution_count": 13,
   "metadata": {},
   "outputs": [
    {
     "name": "stdout",
     "output_type": "stream",
     "text": [
      "Our best parameters: {'class_weight': None, 'penalty': 'l2', 'solver': 'lbfgs'}\n",
      "Out best score: 0.804\n"
     ]
    }
   ],
   "source": [
    "print(f'Our best parameters: {logit_best.best_params_}')\n",
    "print(f'Out best score: {round(logit_best.best_score_,3)}')"
   ]
  },
  {
   "cell_type": "markdown",
   "metadata": {},
   "source": [
    "## KNearest Neighbors"
   ]
  },
  {
   "cell_type": "code",
   "execution_count": 14,
   "metadata": {},
   "outputs": [
    {
     "name": "stdout",
     "output_type": "stream",
     "text": [
      "Training Score: 83.67%\n",
      "Test Score: 75.03%\n"
     ]
    }
   ],
   "source": [
    "#KNearest Neighbors\n",
    "knn = KNeighborsClassifier()\n",
    "knn.fit(X_sc_train,y_train)\n",
    "\n",
    "print(f'Training Score: {knn.score(X_sc_train,y_train):.2%}')\n",
    "print(f'Test Score: {knn.score(X_sc_test,y_test):.2%}')"
   ]
  },
  {
   "cell_type": "code",
   "execution_count": 15,
   "metadata": {},
   "outputs": [
    {
     "name": "stdout",
     "output_type": "stream",
     "text": [
      "              precision    recall  f1-score   support\n",
      "\n",
      "           0       0.83      0.83      0.83      1291\n",
      "           1       0.53      0.54      0.53       467\n",
      "\n",
      "    accuracy                           0.75      1758\n",
      "   macro avg       0.68      0.68      0.68      1758\n",
      "weighted avg       0.75      0.75      0.75      1758\n",
      "\n"
     ]
    },
    {
     "data": {
      "image/png": "[encoded data removed]",
      "text/plain": [
       "<Figure size 432x288 with 2 Axes>"
      ]
     },
     "metadata": {
      "needs_background": "light"
     },
     "output_type": "display_data"
    }
   ],
   "source": [
    "#Generate Predictions\n",
    "preds=knn.predict(X_sc_test)\n",
    "print(classification_report(y_test,preds))\n",
    "cm = confusion_matrix(y_test,preds)\n",
    "ConfusionMatrixDisplay(confusion_matrix=cm, display_labels = knn.classes_).plot();"
   ]
  },
  {
   "cell_type": "markdown",
   "metadata": {},
   "source": [
    "One of the first things we notice, is that our model performed worse than our logistic regression. Let's take a look at tuning some of our parameters to see if we can close that performance gap."
   ]
  },
  {
   "cell_type": "code",
   "execution_count": 16,
   "metadata": {},
   "outputs": [],
   "source": [
    "#KNearest Neighbors Parameter Dictionary\n",
    "knn_params = {\n",
    "    'n_neighbors':range(10,101,10),\n",
    "    'weights':['uniform','distance']}"
   ]
  },
  {
   "cell_type": "code",
   "execution_count": 17,
   "metadata": {},
   "outputs": [
    {
     "name": "stdout",
     "output_type": "stream",
     "text": [
      "Fitting 10 folds for each of 20 candidates, totalling 200 fits\n"
     ]
    },
    {
     "name": "stderr",
     "output_type": "stream",
     "text": [
      "[Parallel(n_jobs=1)]: Using backend SequentialBackend with 1 concurrent workers.\n",
      "[Parallel(n_jobs=1)]: Done 200 out of 200 | elapsed:   24.8s finished\n"
     ]
    }
   ],
   "source": [
    "#GridSearch\n",
    "knn_best = GridSearchCV(KNeighborsClassifier(), knn_params,cv=10,verbose=1, n_jobs=3).fit(X_sc_train,y_train);"
   ]
  },
  {
   "cell_type": "code",
   "execution_count": 18,
   "metadata": {},
   "outputs": [
    {
     "name": "stdout",
     "output_type": "stream",
     "text": [
      "Our best parameters: {'n_neighbors': 60, 'weights': 'uniform'}\n",
      "Out best score: 0.791\n"
     ]
    }
   ],
   "source": [
    "print(f'Our best parameters: {knn_best.best_params_}')\n",
    "print(f'Out best score: {round(knn_best.best_score_,3)}')`"
   ]
  },
  {
   "cell_type": "code",
   "execution_count": null,
   "metadata": {},
   "outputs": [],
   "source": []
  },
  {
   "cell_type": "markdown",
   "metadata": {},
   "source": [
    "We can see that even with our gridsearch, we didn't see much improvement in our model. Let's instantiate a fresh model and fit it one last time to see our final training and test scores."
   ]
  },
  {
   "cell_type": "code",
   "execution_count": 19,
   "metadata": {},
   "outputs": [
    {
     "name": "stdout",
     "output_type": "stream",
     "text": [
      "Training Score: 79.79%\n",
      "Test Score: 78.95%\n"
     ]
    }
   ],
   "source": [
    "tuned_knn = KNeighborsClassifier(n_neighbors=60)\n",
    "tuned_knn.fit(X_sc_train,y_train)\n",
    "\n",
    "print(f'Training Score: {tuned_knn.score(X_sc_train,y_train):.2%}')\n",
    "print(f'Test Score: {tuned_knn.score(X_sc_test,y_test):.2%}')"
   ]
  },
  {
   "cell_type": "markdown",
   "metadata": {},
   "source": [
    "## Support Vector Machine (SVM)\n",
    "The final model we are going to examine our churn dataset with is a support vector machine. Support vector machines are very powerful models that generally perform very well. Let's take a look and see!"
   ]
  },
  {
   "cell_type": "code",
   "execution_count": 23,
   "metadata": {},
   "outputs": [],
   "source": [
    "# Instantiate SVM.\n",
    "svc = SVC()"
   ]
  },
  {
   "cell_type": "code",
   "execution_count": 24,
   "metadata": {},
   "outputs": [
    {
     "name": "stdout",
     "output_type": "stream",
     "text": [
      "Training Score: 81.82%\n",
      "Test Score: 80.03%\n"
     ]
    }
   ],
   "source": [
    "#Fit\n",
    "svc.fit(X_sc_train,y_train)\n",
    "\n",
    "print(f'Training Score: {svc.score(X_sc_train,y_train):.2%}')\n",
    "print(f'Test Score: {svc.score(X_sc_test,y_test):.2%}')"
   ]
  },
  {
   "cell_type": "markdown",
   "metadata": {},
   "source": [
    "Already we can see that this is scoring comparitive to our logistic regression model."
   ]
  },
  {
   "cell_type": "code",
   "execution_count": 26,
   "metadata": {},
   "outputs": [
    {
     "name": "stdout",
     "output_type": "stream",
     "text": [
      "              precision    recall  f1-score   support\n",
      "\n",
      "           0       0.84      0.90      0.87      1291\n",
      "           1       0.66      0.52      0.58       467\n",
      "\n",
      "    accuracy                           0.80      1758\n",
      "   macro avg       0.75      0.71      0.73      1758\n",
      "weighted avg       0.79      0.80      0.79      1758\n",
      "\n"
     ]
    },
    {
     "data": {
      "image/png": "[encoded data removed]",
      "text/plain": [
       "<Figure size 432x288 with 2 Axes>"
      ]
     },
     "metadata": {
      "needs_background": "light"
     },
     "output_type": "display_data"
    }
   ],
   "source": [
    "#Generate Predictions\n",
    "preds=svc.predict(X_sc_test)\n",
    "print(classification_report(y_test,preds))\n",
    "cm = confusion_matrix(y_test,preds)\n",
    "ConfusionMatrixDisplay(confusion_matrix=cm, display_labels = svc.classes_).plot();"
   ]
  },
  {
   "cell_type": "code",
   "execution_count": 37,
   "metadata": {},
   "outputs": [],
   "source": [
    "svc_params = {\n",
    "    'C':[0.1,0.2,0.3,0.4,0.5,0.6,0.7,0.8,0.9,1.0],\n",
    "    'gamma':['scale','auto'],\n",
    "    'class_weight':['balanced',None],\n",
    "    'break_ties':[True,False]\n",
    "}"
   ]
  },
  {
   "cell_type": "code",
   "execution_count": 38,
   "metadata": {},
   "outputs": [
    {
     "name": "stdout",
     "output_type": "stream",
     "text": [
      "Fitting 10 folds for each of 80 candidates, totalling 800 fits\n"
     ]
    },
    {
     "name": "stderr",
     "output_type": "stream",
     "text": [
      "[Parallel(n_jobs=3)]: Using backend LokyBackend with 3 concurrent workers.\n",
      "[Parallel(n_jobs=3)]: Done  44 tasks      | elapsed:   12.7s\n",
      "[Parallel(n_jobs=3)]: Done 194 tasks      | elapsed:   48.3s\n",
      "[Parallel(n_jobs=3)]: Done 444 tasks      | elapsed:  1.8min\n",
      "[Parallel(n_jobs=3)]: Done 794 tasks      | elapsed:  3.2min\n",
      "[Parallel(n_jobs=3)]: Done 800 out of 800 | elapsed:  3.2min finished\n"
     ]
    }
   ],
   "source": [
    "#GridSearch\n",
    "svc_best = GridSearchCV(SVC(), svc_params,cv=10,verbose=1, n_jobs=3).fit(X_sc_train,y_train);"
   ]
  },
  {
   "cell_type": "code",
   "execution_count": 39,
   "metadata": {},
   "outputs": [
    {
     "name": "stdout",
     "output_type": "stream",
     "text": [
      "Our best parameters: {'C': 0.6, 'break_ties': True, 'class_weight': None, 'gamma': 'scale'}\n",
      "Out best score: 0.804\n"
     ]
    }
   ],
   "source": [
    "print(f'Our best parameters: {svc_best.best_params_}')\n",
    "print(f'Out best score: {round(svc_best.best_score_,3)}')"
   ]
  },
  {
   "cell_type": "markdown",
   "metadata": {},
   "source": [
    "Unfortunately it looks like even with an extensive gridsearch"
   ]
  }
 ],
 "metadata": {
  "kernelspec": {
   "display_name": "Python 3",
   "language": "python",
   "name": "python3"
  },
  "language_info": {
   "codemirror_mode": {
    "name": "ipython",
    "version": 3
   },
   "file_extension": ".py",
   "mimetype": "text/x-python",
   "name": "python",
   "nbconvert_exporter": "python",
   "pygments_lexer": "ipython3",
   "version": "3.8.5"
  }
 },
 "nbformat": 4,
 "nbformat_minor": 5
}
