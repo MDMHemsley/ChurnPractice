{
 "cells": [
  {
   "cell_type": "markdown",
   "metadata": {},
   "source": [
    "# Telcom Customer Churn\n",
    "Matthew Mandel Hemsley"
   ]
  },
  {
   "cell_type": "markdown",
   "metadata": {},
   "source": [
    "### Remember:  Churn in this dataset represents individuals who left within the last month"
   ]
  },
  {
   "cell_type": "code",
   "execution_count": 1,
   "metadata": {},
   "outputs": [],
   "source": [
    "#Imports\n",
    "import pandas as pd\n",
    "import numpy as np\n",
    "import matplotlib.pyplot as plt\n",
    "import seaborn as sns"
   ]
  },
  {
   "cell_type": "code",
   "execution_count": 2,
   "metadata": {},
   "outputs": [],
   "source": [
    "#Data Read In\n",
    "churn_df = pd.read_csv('./data/WA_Fn-UseC_-Telco-Customer-Churn.csv') # .CSV provided by Kaggle: https://www.kaggle.com/blastchar/telco-customer-churn"
   ]
  },
  {
   "cell_type": "code",
   "execution_count": 3,
   "metadata": {},
   "outputs": [
    {
     "data": {
      "text/html": [
       "<div>\n",
       "<style scoped>\n",
       "    .dataframe tbody tr th:only-of-type {\n",
       "        vertical-align: middle;\n",
       "    }\n",
       "\n",
       "    .dataframe tbody tr th {\n",
       "        vertical-align: top;\n",
       "    }\n",
       "\n",
       "    .dataframe thead th {\n",
       "        text-align: right;\n",
       "    }\n",
       "</style>\n",
       "<table border=\"1\" class=\"dataframe\">\n",
       "  <thead>\n",
       "    <tr style=\"text-align: right;\">\n",
       "      <th></th>\n",
       "      <th>customerID</th>\n",
       "      <th>gender</th>\n",
       "      <th>SeniorCitizen</th>\n",
       "      <th>Partner</th>\n",
       "      <th>Dependents</th>\n",
       "      <th>tenure</th>\n",
       "      <th>PhoneService</th>\n",
       "      <th>MultipleLines</th>\n",
       "      <th>InternetService</th>\n",
       "      <th>OnlineSecurity</th>\n",
       "      <th>...</th>\n",
       "      <th>DeviceProtection</th>\n",
       "      <th>TechSupport</th>\n",
       "      <th>StreamingTV</th>\n",
       "      <th>StreamingMovies</th>\n",
       "      <th>Contract</th>\n",
       "      <th>PaperlessBilling</th>\n",
       "      <th>PaymentMethod</th>\n",
       "      <th>MonthlyCharges</th>\n",
       "      <th>TotalCharges</th>\n",
       "      <th>Churn</th>\n",
       "    </tr>\n",
       "  </thead>\n",
       "  <tbody>\n",
       "    <tr>\n",
       "      <th>0</th>\n",
       "      <td>7590-VHVEG</td>\n",
       "      <td>Female</td>\n",
       "      <td>0</td>\n",
       "      <td>Yes</td>\n",
       "      <td>No</td>\n",
       "      <td>1</td>\n",
       "      <td>No</td>\n",
       "      <td>No phone service</td>\n",
       "      <td>DSL</td>\n",
       "      <td>No</td>\n",
       "      <td>...</td>\n",
       "      <td>No</td>\n",
       "      <td>No</td>\n",
       "      <td>No</td>\n",
       "      <td>No</td>\n",
       "      <td>Month-to-month</td>\n",
       "      <td>Yes</td>\n",
       "      <td>Electronic check</td>\n",
       "      <td>29.85</td>\n",
       "      <td>29.85</td>\n",
       "      <td>No</td>\n",
       "    </tr>\n",
       "    <tr>\n",
       "      <th>1</th>\n",
       "      <td>5575-GNVDE</td>\n",
       "      <td>Male</td>\n",
       "      <td>0</td>\n",
       "      <td>No</td>\n",
       "      <td>No</td>\n",
       "      <td>34</td>\n",
       "      <td>Yes</td>\n",
       "      <td>No</td>\n",
       "      <td>DSL</td>\n",
       "      <td>Yes</td>\n",
       "      <td>...</td>\n",
       "      <td>Yes</td>\n",
       "      <td>No</td>\n",
       "      <td>No</td>\n",
       "      <td>No</td>\n",
       "      <td>One year</td>\n",
       "      <td>No</td>\n",
       "      <td>Mailed check</td>\n",
       "      <td>56.95</td>\n",
       "      <td>1889.5</td>\n",
       "      <td>No</td>\n",
       "    </tr>\n",
       "    <tr>\n",
       "      <th>2</th>\n",
       "      <td>3668-QPYBK</td>\n",
       "      <td>Male</td>\n",
       "      <td>0</td>\n",
       "      <td>No</td>\n",
       "      <td>No</td>\n",
       "      <td>2</td>\n",
       "      <td>Yes</td>\n",
       "      <td>No</td>\n",
       "      <td>DSL</td>\n",
       "      <td>Yes</td>\n",
       "      <td>...</td>\n",
       "      <td>No</td>\n",
       "      <td>No</td>\n",
       "      <td>No</td>\n",
       "      <td>No</td>\n",
       "      <td>Month-to-month</td>\n",
       "      <td>Yes</td>\n",
       "      <td>Mailed check</td>\n",
       "      <td>53.85</td>\n",
       "      <td>108.15</td>\n",
       "      <td>Yes</td>\n",
       "    </tr>\n",
       "    <tr>\n",
       "      <th>3</th>\n",
       "      <td>7795-CFOCW</td>\n",
       "      <td>Male</td>\n",
       "      <td>0</td>\n",
       "      <td>No</td>\n",
       "      <td>No</td>\n",
       "      <td>45</td>\n",
       "      <td>No</td>\n",
       "      <td>No phone service</td>\n",
       "      <td>DSL</td>\n",
       "      <td>Yes</td>\n",
       "      <td>...</td>\n",
       "      <td>Yes</td>\n",
       "      <td>Yes</td>\n",
       "      <td>No</td>\n",
       "      <td>No</td>\n",
       "      <td>One year</td>\n",
       "      <td>No</td>\n",
       "      <td>Bank transfer (automatic)</td>\n",
       "      <td>42.30</td>\n",
       "      <td>1840.75</td>\n",
       "      <td>No</td>\n",
       "    </tr>\n",
       "    <tr>\n",
       "      <th>4</th>\n",
       "      <td>9237-HQITU</td>\n",
       "      <td>Female</td>\n",
       "      <td>0</td>\n",
       "      <td>No</td>\n",
       "      <td>No</td>\n",
       "      <td>2</td>\n",
       "      <td>Yes</td>\n",
       "      <td>No</td>\n",
       "      <td>Fiber optic</td>\n",
       "      <td>No</td>\n",
       "      <td>...</td>\n",
       "      <td>No</td>\n",
       "      <td>No</td>\n",
       "      <td>No</td>\n",
       "      <td>No</td>\n",
       "      <td>Month-to-month</td>\n",
       "      <td>Yes</td>\n",
       "      <td>Electronic check</td>\n",
       "      <td>70.70</td>\n",
       "      <td>151.65</td>\n",
       "      <td>Yes</td>\n",
       "    </tr>\n",
       "  </tbody>\n",
       "</table>\n",
       "<p>5 rows × 21 columns</p>\n",
       "</div>"
      ],
      "text/plain": [
       "   customerID  gender  SeniorCitizen Partner Dependents  tenure PhoneService  \\\n",
       "0  7590-VHVEG  Female              0     Yes         No       1           No   \n",
       "1  5575-GNVDE    Male              0      No         No      34          Yes   \n",
       "2  3668-QPYBK    Male              0      No         No       2          Yes   \n",
       "3  7795-CFOCW    Male              0      No         No      45           No   \n",
       "4  9237-HQITU  Female              0      No         No       2          Yes   \n",
       "\n",
       "      MultipleLines InternetService OnlineSecurity  ... DeviceProtection  \\\n",
       "0  No phone service             DSL             No  ...               No   \n",
       "1                No             DSL            Yes  ...              Yes   \n",
       "2                No             DSL            Yes  ...               No   \n",
       "3  No phone service             DSL            Yes  ...              Yes   \n",
       "4                No     Fiber optic             No  ...               No   \n",
       "\n",
       "  TechSupport StreamingTV StreamingMovies        Contract PaperlessBilling  \\\n",
       "0          No          No              No  Month-to-month              Yes   \n",
       "1          No          No              No        One year               No   \n",
       "2          No          No              No  Month-to-month              Yes   \n",
       "3         Yes          No              No        One year               No   \n",
       "4          No          No              No  Month-to-month              Yes   \n",
       "\n",
       "               PaymentMethod MonthlyCharges  TotalCharges Churn  \n",
       "0           Electronic check          29.85         29.85    No  \n",
       "1               Mailed check          56.95        1889.5    No  \n",
       "2               Mailed check          53.85        108.15   Yes  \n",
       "3  Bank transfer (automatic)          42.30       1840.75    No  \n",
       "4           Electronic check          70.70        151.65   Yes  \n",
       "\n",
       "[5 rows x 21 columns]"
      ]
     },
     "execution_count": 3,
     "metadata": {},
     "output_type": "execute_result"
    }
   ],
   "source": [
    "churn_df.head(5)"
   ]
  },
  {
   "cell_type": "code",
   "execution_count": 4,
   "metadata": {},
   "outputs": [
    {
     "name": "stdout",
     "output_type": "stream",
     "text": [
      "<class 'pandas.core.frame.DataFrame'>\n",
      "RangeIndex: 7043 entries, 0 to 7042\n",
      "Data columns (total 21 columns):\n",
      " #   Column            Non-Null Count  Dtype  \n",
      "---  ------            --------------  -----  \n",
      " 0   customerID        7043 non-null   object \n",
      " 1   gender            7043 non-null   object \n",
      " 2   SeniorCitizen     7043 non-null   int64  \n",
      " 3   Partner           7043 non-null   object \n",
      " 4   Dependents        7043 non-null   object \n",
      " 5   tenure            7043 non-null   int64  \n",
      " 6   PhoneService      7043 non-null   object \n",
      " 7   MultipleLines     7043 non-null   object \n",
      " 8   InternetService   7043 non-null   object \n",
      " 9   OnlineSecurity    7043 non-null   object \n",
      " 10  OnlineBackup      7043 non-null   object \n",
      " 11  DeviceProtection  7043 non-null   object \n",
      " 12  TechSupport       7043 non-null   object \n",
      " 13  StreamingTV       7043 non-null   object \n",
      " 14  StreamingMovies   7043 non-null   object \n",
      " 15  Contract          7043 non-null   object \n",
      " 16  PaperlessBilling  7043 non-null   object \n",
      " 17  PaymentMethod     7043 non-null   object \n",
      " 18  MonthlyCharges    7043 non-null   float64\n",
      " 19  TotalCharges      7043 non-null   object \n",
      " 20  Churn             7043 non-null   object \n",
      "dtypes: float64(1), int64(2), object(18)\n",
      "memory usage: 1.1+ MB\n"
     ]
    }
   ],
   "source": [
    "churn_df.info()"
   ]
  },
  {
   "cell_type": "markdown",
   "metadata": {},
   "source": [
    "Reindexing onto Customer ID as it is our unique key for this dataset"
   ]
  },
  {
   "cell_type": "code",
   "execution_count": 5,
   "metadata": {},
   "outputs": [
    {
     "name": "stdout",
     "output_type": "stream",
     "text": [
      "Duplicate Check before Reindexing: 0\n"
     ]
    }
   ],
   "source": [
    "#Check Customer ID for duplicates\n",
    "if churn_df['customerID'].duplicated().sum() == 0:\n",
    "    print('Duplicate Check before Reindexing:',churn_df['customerID'].duplicated().sum())\n",
    "    #Set Index as CustomerID\n",
    "    #churn_df.set_index('customerID', inplace=True) \n",
    "else:\n",
    "    print('Please Check Dataset. Duplicates Found.')\n",
    "    print('Duplicates: ',churn_df['customerID'].duplicated())"
   ]
  },
  {
   "cell_type": "markdown",
   "metadata": {},
   "source": [
    "As we know our focus will be on Churn, let's take a look at it now to see what we will be using to construct our model."
   ]
  },
  {
   "cell_type": "code",
   "execution_count": 6,
   "metadata": {},
   "outputs": [
    {
     "name": "stdout",
     "output_type": "stream",
     "text": [
      "Number of Customers Retained: 5174\n",
      "Number of Customers Churned: 1869\n",
      "Percentage of Customers Lost: 26.5%\n"
     ]
    }
   ],
   "source": [
    "#Churn Column Analysis\n",
    "churned_not,churned = churn_df['Churn'].value_counts()\n",
    "print(f'Number of Customers Retained: {churned_not}')\n",
    "print(f'Number of Customers Churned: {churned}')\n",
    "print(f'Percentage of Customers Lost: {round(churned/(churned+churned_not),3)*100}%')\n"
   ]
  },
  {
   "cell_type": "markdown",
   "metadata": {},
   "source": [
    "From this, we can see that we are going to be dealing with imbalanced classes. Due to the size of the dataset, as well as the ratio of the imbalance, we can temporarily ignore this imbalance, though it may be a cause of prediction issues when we get into modelling, and thus is important to make note of here."
   ]
  },
  {
   "cell_type": "markdown",
   "metadata": {},
   "source": [
    "## Data Cleaning\n",
    "To begin with, we are going to go through the object columns to determine what we are keeping/binarizing/dropping"
   ]
  },
  {
   "cell_type": "code",
   "execution_count": 7,
   "metadata": {},
   "outputs": [
    {
     "name": "stdout",
     "output_type": "stream",
     "text": [
      " Column Name: customerID\n",
      " Column Unique Values: ['7590-VHVEG' '5575-GNVDE' '3668-QPYBK' ... '4801-JZAZL' '8361-LTMKD'\n",
      " '3186-AJIEK']\n",
      "\n",
      " Column Name: gender\n",
      " Column Unique Values: ['Female' 'Male']\n",
      "\n",
      " Column Name: Partner\n",
      " Column Unique Values: ['Yes' 'No']\n",
      "\n",
      " Column Name: Dependents\n",
      " Column Unique Values: ['No' 'Yes']\n",
      "\n",
      " Column Name: PhoneService\n",
      " Column Unique Values: ['No' 'Yes']\n",
      "\n",
      " Column Name: MultipleLines\n",
      " Column Unique Values: ['No phone service' 'No' 'Yes']\n",
      "\n",
      " Column Name: InternetService\n",
      " Column Unique Values: ['DSL' 'Fiber optic' 'No']\n",
      "\n",
      " Column Name: OnlineSecurity\n",
      " Column Unique Values: ['No' 'Yes' 'No internet service']\n",
      "\n",
      " Column Name: OnlineBackup\n",
      " Column Unique Values: ['Yes' 'No' 'No internet service']\n",
      "\n",
      " Column Name: DeviceProtection\n",
      " Column Unique Values: ['No' 'Yes' 'No internet service']\n",
      "\n",
      " Column Name: TechSupport\n",
      " Column Unique Values: ['No' 'Yes' 'No internet service']\n",
      "\n",
      " Column Name: StreamingTV\n",
      " Column Unique Values: ['No' 'Yes' 'No internet service']\n",
      "\n",
      " Column Name: StreamingMovies\n",
      " Column Unique Values: ['No' 'Yes' 'No internet service']\n",
      "\n",
      " Column Name: Contract\n",
      " Column Unique Values: ['Month-to-month' 'One year' 'Two year']\n",
      "\n",
      " Column Name: PaperlessBilling\n",
      " Column Unique Values: ['Yes' 'No']\n",
      "\n",
      " Column Name: PaymentMethod\n",
      " Column Unique Values: ['Electronic check' 'Mailed check' 'Bank transfer (automatic)'\n",
      " 'Credit card (automatic)']\n",
      "\n",
      " Column Name: TotalCharges\n",
      " Column Unique Values: ['29.85' '1889.5' '108.15' ... '346.45' '306.6' '6844.5']\n",
      "\n",
      " Column Name: Churn\n",
      " Column Unique Values: ['No' 'Yes']\n",
      "\n"
     ]
    }
   ],
   "source": [
    "#Loop through all object columns and show unique values to determine binzarization\n",
    "for column in churn_df:\n",
    "    if churn_df[column].dtypes == 'object':\n",
    "        print(f' Column Name: {column}')\n",
    "        print(f' Column Unique Values: {churn_df[column].unique()}')\n",
    "        print(f'')"
   ]
  },
  {
   "cell_type": "markdown",
   "metadata": {},
   "source": [
    "TotalCharges should not be an object, so that will be the first thing we examine"
   ]
  },
  {
   "cell_type": "code",
   "execution_count": 8,
   "metadata": {},
   "outputs": [
    {
     "name": "stdout",
     "output_type": "stream",
     "text": [
      "Problem Value: \n",
      "Problem Value: \n",
      "Problem Value: \n",
      "Problem Value: \n",
      "Problem Value: \n",
      "Problem Value: \n",
      "Problem Value: \n",
      "Problem Value: \n",
      "Problem Value: \n",
      "Problem Value: \n",
      "Problem Value: \n"
     ]
    }
   ],
   "source": [
    "for value in churn_df['TotalCharges']:\n",
    "        if len(value) == 1:\n",
    "            print(f'Problem Value:{value}')"
   ]
  },
  {
   "cell_type": "markdown",
   "metadata": {},
   "source": [
    "Though difficult to see, our issue in this column is the several ' ' values in cells"
   ]
  },
  {
   "cell_type": "code",
   "execution_count": 9,
   "metadata": {},
   "outputs": [],
   "source": [
    "#Replacing spaces with np.NaN and casting the column as a float\n",
    "churn_df['TotalCharges'] = churn_df['TotalCharges'].replace(' ',np.NaN)\n",
    "churn_df['TotalCharges'] = churn_df['TotalCharges'].astype(float)"
   ]
  },
  {
   "cell_type": "markdown",
   "metadata": {},
   "source": [
    "Several columns, including Churn, consist of Yes/No strings which we can quickly convert into 1/0"
   ]
  },
  {
   "cell_type": "code",
   "execution_count": 10,
   "metadata": {},
   "outputs": [],
   "source": [
    "#List of columns to binarize\n",
    "binarize_list = ['Partner','Dependents','PhoneService','PaperlessBilling','Churn']\n",
    "\n",
    "#Loop through each column in the binarize_list and binarize\n",
    "for column in churn_df[binarize_list]:\n",
    "        churn_df[column] = churn_df[column].map({'Yes':1,'No':0})"
   ]
  },
  {
   "cell_type": "markdown",
   "metadata": {},
   "source": [
    "Several columns consist of No internet service values, in addition to Yes and No. These columns will be binarized, with np.nulls filling the No internet service values for cleaning purposes.\n",
    "\n",
    "These may be dropped later depending on the quanity."
   ]
  },
  {
   "cell_type": "code",
   "execution_count": 11,
   "metadata": {},
   "outputs": [],
   "source": [
    "#List of columns to alter\n",
    "np_list = ['OnlineSecurity','OnlineBackup','DeviceProtection','TechSupport','StreamingTV','StreamingMovies']\n",
    "\n",
    "#Loop through each column in the np_list and alter values accounting to .map parameters\n",
    "for column in churn_df[np_list]:\n",
    "    churn_df[column] = churn_df[column].map({'Yes':2,'No':1,'No internet service':0})"
   ]
  },
  {
   "cell_type": "code",
   "execution_count": 12,
   "metadata": {},
   "outputs": [],
   "source": [
    "churn_df['gender'] = churn_df['gender'].map({'Female':1,'Male':0}) #Binarize Gender"
   ]
  },
  {
   "cell_type": "code",
   "execution_count": 13,
   "metadata": {},
   "outputs": [
    {
     "name": "stdout",
     "output_type": "stream",
     "text": [
      "<class 'pandas.core.frame.DataFrame'>\n",
      "RangeIndex: 7043 entries, 0 to 7042\n",
      "Data columns (total 21 columns):\n",
      " #   Column            Non-Null Count  Dtype  \n",
      "---  ------            --------------  -----  \n",
      " 0   customerID        7043 non-null   object \n",
      " 1   gender            7043 non-null   int64  \n",
      " 2   SeniorCitizen     7043 non-null   int64  \n",
      " 3   Partner           7043 non-null   int64  \n",
      " 4   Dependents        7043 non-null   int64  \n",
      " 5   tenure            7043 non-null   int64  \n",
      " 6   PhoneService      7043 non-null   int64  \n",
      " 7   MultipleLines     7043 non-null   object \n",
      " 8   InternetService   7043 non-null   object \n",
      " 9   OnlineSecurity    7043 non-null   int64  \n",
      " 10  OnlineBackup      7043 non-null   int64  \n",
      " 11  DeviceProtection  7043 non-null   int64  \n",
      " 12  TechSupport       7043 non-null   int64  \n",
      " 13  StreamingTV       7043 non-null   int64  \n",
      " 14  StreamingMovies   7043 non-null   int64  \n",
      " 15  Contract          7043 non-null   object \n",
      " 16  PaperlessBilling  7043 non-null   int64  \n",
      " 17  PaymentMethod     7043 non-null   object \n",
      " 18  MonthlyCharges    7043 non-null   float64\n",
      " 19  TotalCharges      7032 non-null   float64\n",
      " 20  Churn             7043 non-null   int64  \n",
      "dtypes: float64(2), int64(14), object(5)\n",
      "memory usage: 1.1+ MB\n"
     ]
    }
   ],
   "source": [
    "churn_df.info()"
   ]
  },
  {
   "cell_type": "code",
   "execution_count": 14,
   "metadata": {},
   "outputs": [
    {
     "name": "stdout",
     "output_type": "stream",
     "text": [
      " Column Name: customerID\n",
      " Column Unique Values: ['7590-VHVEG' '5575-GNVDE' '3668-QPYBK' ... '4801-JZAZL' '8361-LTMKD'\n",
      " '3186-AJIEK']\n",
      "\n",
      " Column Name: MultipleLines\n",
      " Column Unique Values: ['No phone service' 'No' 'Yes']\n",
      "\n",
      " Column Name: InternetService\n",
      " Column Unique Values: ['DSL' 'Fiber optic' 'No']\n",
      "\n",
      " Column Name: Contract\n",
      " Column Unique Values: ['Month-to-month' 'One year' 'Two year']\n",
      "\n",
      " Column Name: PaymentMethod\n",
      " Column Unique Values: ['Electronic check' 'Mailed check' 'Bank transfer (automatic)'\n",
      " 'Credit card (automatic)']\n",
      "\n"
     ]
    }
   ],
   "source": [
    "for column in churn_df:\n",
    "    if churn_df[column].dtypes == 'object':\n",
    "        print(f' Column Name: {column}')\n",
    "        print(f' Column Unique Values: {churn_df[column].unique()}')\n",
    "        print(f'')"
   ]
  },
  {
   "cell_type": "code",
   "execution_count": 15,
   "metadata": {},
   "outputs": [],
   "source": [
    "dummies_list = ['MultipleLines','InternetService','Contract','PaymentMethod']\n",
    "\n",
    "churn_df = pd.get_dummies(churn_df,columns=dummies_list)"
   ]
  },
  {
   "cell_type": "markdown",
   "metadata": {},
   "source": [
    "I believe PaymentMethod can be turned into a simpler category of Automatic vs Manual. To determine whether this is worth doing, I'm going to first turn PaymentMethod into a numeric categories"
   ]
  },
  {
   "cell_type": "code",
   "execution_count": 16,
   "metadata": {},
   "outputs": [],
   "source": [
    "#PaymentMethodType will be add with Automatic vs Manual, with Automatic being 1 and Manual being 0, using PaymentMethod's values\n",
    "#churn_df['PaymentMethodType'] = churn_df['PaymentMethod'].map({'Electronic check':0,'Mailed check':0,'Bank transfer (automatic)':1,'Credit card (automatic)':1})"
   ]
  },
  {
   "cell_type": "code",
   "execution_count": 17,
   "metadata": {},
   "outputs": [],
   "source": [
    "#Clear all NaNs\n",
    "churn_df.dropna(inplace=True)"
   ]
  },
  {
   "cell_type": "code",
   "execution_count": 18,
   "metadata": {},
   "outputs": [
    {
     "data": {
      "image/png": "[encoded data removed]",
      "text/plain": [
       "<Figure size 432x288 with 2 Axes>"
      ]
     },
     "metadata": {
      "needs_background": "light"
     },
     "output_type": "display_data"
    }
   ],
   "source": [
    "sns.heatmap(churn_df.drop(columns=['customerID']),\n",
    "           annot=True,\n",
    "           cmap='rainbow',\n",
    "            vmin=-1, vmax=1,\n",
    "           linewidths=0.05,linecolor='black');"
   ]
  },
  {
   "cell_type": "markdown",
   "metadata": {},
   "source": [
    "Exporting cleaned data set"
   ]
  },
  {
   "cell_type": "code",
   "execution_count": 19,
   "metadata": {},
   "outputs": [],
   "source": [
    "#churn_df.to_csv('./data/clean_churn.csv')"
   ]
  },
  {
   "cell_type": "markdown",
   "metadata": {},
   "source": [
    "### Visualizations"
   ]
  },
  {
   "cell_type": "code",
   "execution_count": 20,
   "metadata": {},
   "outputs": [
    {
     "name": "stdout",
     "output_type": "stream",
     "text": [
      "\n",
      "customerID\n",
      "count           7032\n",
      "unique          7032\n",
      "top       6483-OATDN\n",
      "freq               1\n",
      "Name: customerID, dtype: object\n",
      "\n",
      "\n",
      "gender\n",
      "count    7032.000000\n",
      "mean        0.495307\n",
      "std         0.500014\n",
      "min         0.000000\n",
      "25%         0.000000\n",
      "50%         0.000000\n",
      "75%         1.000000\n",
      "max         1.000000\n",
      "Name: gender, dtype: float64\n",
      "\n",
      "\n",
      "SeniorCitizen\n",
      "count    7032.000000\n",
      "mean        0.162400\n",
      "std         0.368844\n",
      "min         0.000000\n",
      "25%         0.000000\n",
      "50%         0.000000\n",
      "75%         0.000000\n",
      "max         1.000000\n",
      "Name: SeniorCitizen, dtype: float64\n",
      "\n",
      "\n",
      "Partner\n",
      "count    7032.000000\n",
      "mean        0.482509\n",
      "std         0.499729\n",
      "min         0.000000\n",
      "25%         0.000000\n",
      "50%         0.000000\n",
      "75%         1.000000\n",
      "max         1.000000\n",
      "Name: Partner, dtype: float64\n",
      "\n",
      "\n",
      "Dependents\n",
      "count    7032.000000\n",
      "mean        0.298493\n",
      "std         0.457629\n",
      "min         0.000000\n",
      "25%         0.000000\n",
      "50%         0.000000\n",
      "75%         1.000000\n",
      "max         1.000000\n",
      "Name: Dependents, dtype: float64\n",
      "\n",
      "\n",
      "tenure\n",
      "count    7032.000000\n",
      "mean       32.421786\n",
      "std        24.545260\n",
      "min         1.000000\n",
      "25%         9.000000\n",
      "50%        29.000000\n",
      "75%        55.000000\n",
      "max        72.000000\n",
      "Name: tenure, dtype: float64\n",
      "\n",
      "\n",
      "PhoneService\n",
      "count    7032.000000\n",
      "mean        0.903299\n",
      "std         0.295571\n",
      "min         0.000000\n",
      "25%         1.000000\n",
      "50%         1.000000\n",
      "75%         1.000000\n",
      "max         1.000000\n",
      "Name: PhoneService, dtype: float64\n",
      "\n",
      "\n",
      "OnlineSecurity\n",
      "count    7032.000000\n",
      "mean        1.070392\n",
      "std         0.705562\n",
      "min         0.000000\n",
      "25%         1.000000\n",
      "50%         1.000000\n",
      "75%         2.000000\n",
      "max         2.000000\n",
      "Name: OnlineSecurity, dtype: float64\n",
      "\n",
      "\n",
      "OnlineBackup\n",
      "count    7032.000000\n",
      "mean        1.128697\n",
      "std         0.737917\n",
      "min         0.000000\n",
      "25%         1.000000\n",
      "50%         1.000000\n",
      "75%         2.000000\n",
      "max         2.000000\n",
      "Name: OnlineBackup, dtype: float64\n",
      "\n",
      "\n",
      "DeviceProtection\n",
      "count    7032.000000\n",
      "mean        1.127702\n",
      "std         0.737415\n",
      "min         0.000000\n",
      "25%         1.000000\n",
      "50%         1.000000\n",
      "75%         2.000000\n",
      "max         2.000000\n",
      "Name: DeviceProtection, dtype: float64\n",
      "\n",
      "\n",
      "TechSupport\n",
      "count    7032.000000\n",
      "mean        1.073948\n",
      "std         0.707715\n",
      "min         0.000000\n",
      "25%         1.000000\n",
      "50%         1.000000\n",
      "75%         2.000000\n",
      "max         2.000000\n",
      "Name: TechSupport, dtype: float64\n",
      "\n",
      "\n",
      "StreamingTV\n",
      "count    7032.000000\n",
      "mean        1.168231\n",
      "std         0.756518\n",
      "min         0.000000\n",
      "25%         1.000000\n",
      "50%         1.000000\n",
      "75%         2.000000\n",
      "max         2.000000\n",
      "Name: StreamingTV, dtype: float64\n",
      "\n",
      "\n",
      "StreamingMovies\n",
      "count    7032.000000\n",
      "mean        1.172213\n",
      "std         0.758252\n",
      "min         0.000000\n",
      "25%         1.000000\n",
      "50%         1.000000\n",
      "75%         2.000000\n",
      "max         2.000000\n",
      "Name: StreamingMovies, dtype: float64\n",
      "\n",
      "\n",
      "PaperlessBilling\n",
      "count    7032.000000\n",
      "mean        0.592719\n",
      "std         0.491363\n",
      "min         0.000000\n",
      "25%         0.000000\n",
      "50%         1.000000\n",
      "75%         1.000000\n",
      "max         1.000000\n",
      "Name: PaperlessBilling, dtype: float64\n",
      "\n",
      "\n",
      "MonthlyCharges\n",
      "count    7032.000000\n",
      "mean       64.798208\n",
      "std        30.085974\n",
      "min        18.250000\n",
      "25%        35.587500\n",
      "50%        70.350000\n",
      "75%        89.862500\n",
      "max       118.750000\n",
      "Name: MonthlyCharges, dtype: float64\n",
      "\n",
      "\n",
      "TotalCharges\n",
      "count    7032.000000\n",
      "mean     2283.300441\n",
      "std      2266.771362\n",
      "min        18.800000\n",
      "25%       401.450000\n",
      "50%      1397.475000\n",
      "75%      3794.737500\n",
      "max      8684.800000\n",
      "Name: TotalCharges, dtype: float64\n",
      "\n",
      "\n",
      "Churn\n",
      "count    7032.000000\n",
      "mean        0.265785\n",
      "std         0.441782\n",
      "min         0.000000\n",
      "25%         0.000000\n",
      "50%         0.000000\n",
      "75%         1.000000\n",
      "max         1.000000\n",
      "Name: Churn, dtype: float64\n",
      "\n",
      "\n",
      "MultipleLines_No\n",
      "count    7032.000000\n",
      "mean        0.481371\n",
      "std         0.499688\n",
      "min         0.000000\n",
      "25%         0.000000\n",
      "50%         0.000000\n",
      "75%         1.000000\n",
      "max         1.000000\n",
      "Name: MultipleLines_No, dtype: float64\n",
      "\n",
      "\n",
      "MultipleLines_No phone service\n",
      "count    7032.000000\n",
      "mean        0.096701\n",
      "std         0.295571\n",
      "min         0.000000\n",
      "25%         0.000000\n",
      "50%         0.000000\n",
      "75%         0.000000\n",
      "max         1.000000\n",
      "Name: MultipleLines_No phone service, dtype: float64\n",
      "\n",
      "\n",
      "MultipleLines_Yes\n",
      "count    7032.000000\n",
      "mean        0.421928\n",
      "std         0.493902\n",
      "min         0.000000\n",
      "25%         0.000000\n",
      "50%         0.000000\n",
      "75%         1.000000\n",
      "max         1.000000\n",
      "Name: MultipleLines_Yes, dtype: float64\n",
      "\n",
      "\n",
      "InternetService_DSL\n",
      "count    7032.000000\n",
      "mean        0.343572\n",
      "std         0.474934\n",
      "min         0.000000\n",
      "25%         0.000000\n",
      "50%         0.000000\n",
      "75%         1.000000\n",
      "max         1.000000\n",
      "Name: InternetService_DSL, dtype: float64\n",
      "\n",
      "\n",
      "InternetService_Fiber optic\n",
      "count    7032.000000\n",
      "mean        0.440273\n",
      "std         0.496455\n",
      "min         0.000000\n",
      "25%         0.000000\n",
      "50%         0.000000\n",
      "75%         1.000000\n",
      "max         1.000000\n",
      "Name: InternetService_Fiber optic, dtype: float64\n",
      "\n",
      "\n",
      "InternetService_No\n",
      "count    7032.000000\n",
      "mean        0.216155\n",
      "std         0.411650\n",
      "min         0.000000\n",
      "25%         0.000000\n",
      "50%         0.000000\n",
      "75%         0.000000\n",
      "max         1.000000\n",
      "Name: InternetService_No, dtype: float64\n",
      "\n",
      "\n",
      "Contract_Month-to-month\n",
      "count    7032.000000\n",
      "mean        0.551052\n",
      "std         0.497422\n",
      "min         0.000000\n",
      "25%         0.000000\n",
      "50%         1.000000\n",
      "75%         1.000000\n",
      "max         1.000000\n",
      "Name: Contract_Month-to-month, dtype: float64\n",
      "\n",
      "\n",
      "Contract_One year\n",
      "count    7032.000000\n",
      "mean        0.209329\n",
      "std         0.406858\n",
      "min         0.000000\n",
      "25%         0.000000\n",
      "50%         0.000000\n",
      "75%         0.000000\n",
      "max         1.000000\n",
      "Name: Contract_One year, dtype: float64\n",
      "\n",
      "\n",
      "Contract_Two year\n",
      "count    7032.000000\n",
      "mean        0.239619\n",
      "std         0.426881\n",
      "min         0.000000\n",
      "25%         0.000000\n",
      "50%         0.000000\n",
      "75%         0.000000\n",
      "max         1.000000\n",
      "Name: Contract_Two year, dtype: float64\n",
      "\n",
      "\n",
      "PaymentMethod_Bank transfer (automatic)\n",
      "count    7032.000000\n",
      "mean        0.219283\n",
      "std         0.413790\n",
      "min         0.000000\n",
      "25%         0.000000\n",
      "50%         0.000000\n",
      "75%         0.000000\n",
      "max         1.000000\n",
      "Name: PaymentMethod_Bank transfer (automatic), dtype: float64\n",
      "\n",
      "\n",
      "PaymentMethod_Credit card (automatic)\n",
      "count    7032.000000\n",
      "mean        0.216297\n",
      "std         0.411748\n",
      "min         0.000000\n",
      "25%         0.000000\n",
      "50%         0.000000\n",
      "75%         0.000000\n",
      "max         1.000000\n",
      "Name: PaymentMethod_Credit card (automatic), dtype: float64\n",
      "\n",
      "\n",
      "PaymentMethod_Electronic check\n",
      "count    7032.000000\n",
      "mean        0.336320\n",
      "std         0.472483\n",
      "min         0.000000\n",
      "25%         0.000000\n",
      "50%         0.000000\n",
      "75%         1.000000\n",
      "max         1.000000\n",
      "Name: PaymentMethod_Electronic check, dtype: float64\n",
      "\n",
      "\n",
      "PaymentMethod_Mailed check\n",
      "count    7032.000000\n",
      "mean        0.228100\n",
      "std         0.419637\n",
      "min         0.000000\n",
      "25%         0.000000\n",
      "50%         0.000000\n",
      "75%         0.000000\n",
      "max         1.000000\n",
      "Name: PaymentMethod_Mailed check, dtype: float64\n",
      "\n"
     ]
    }
   ],
   "source": [
    "for column in churn_df:\n",
    "    print('')\n",
    "    print(column)\n",
    "    print(churn_df[column].describe())\n",
    "    print('')"
   ]
  },
  {
   "cell_type": "markdown",
   "metadata": {},
   "source": [
    "We can already make some conclusions based off the above table. We have slightly more males in our sample, and only 16% of our sample consists of individuals over 65 years of age. Since we care about Churn, lets take a look specifically at that."
   ]
  },
  {
   "cell_type": "markdown",
   "metadata": {},
   "source": [
    "Seeing that 26.53% of the customers in this dataset have churned, next we will create a heatmap correlated around Churn to see what is impactful and by how much."
   ]
  },
  {
   "cell_type": "code",
   "execution_count": 21,
   "metadata": {},
   "outputs": [
    {
     "data": {
      "image/png": "[encoded data removed]",
      "text/plain": [
       "<Figure size 432x288 with 2 Axes>"
      ]
     },
     "metadata": {
      "needs_background": "light"
     },
     "output_type": "display_data"
    }
   ],
   "source": [
    "sns.heatmap(churn_df.corr()[['Churn']].sort_values(by='Churn', ascending=False),\n",
    "           annot=True,\n",
    "           cmap='rainbow',\n",
    "            vmin=-1, vmax=1,\n",
    "           linewidths=0.05,linecolor='black',\n",
    "           );"
   ]
  },
  {
   "cell_type": "markdown",
   "metadata": {},
   "source": [
    "InternetService, Contract, and Tenure seem to be the most impactful currently. Let's explore those columns."
   ]
  },
  {
   "cell_type": "code",
   "execution_count": 22,
   "metadata": {},
   "outputs": [],
   "source": [
    "list_contract_breaker = ['Churn','Contract_One year','Contract_Two year','Contract_Month-to-month','tenure']"
   ]
  },
  {
   "cell_type": "code",
   "execution_count": 23,
   "metadata": {
    "scrolled": false
   },
   "outputs": [
    {
     "name": "stdout",
     "output_type": "stream",
     "text": [
      "\n",
      "Churn\n",
      "        count  mean  std  min  25%  50%  75%  max\n",
      "Churn                                            \n",
      "0      5163.0   0.0  0.0  0.0  0.0  0.0  0.0  0.0\n",
      "1      1869.0   1.0  0.0  1.0  1.0  1.0  1.0  1.0\n",
      "\n",
      "\n",
      "Contract_One year\n",
      "        count      mean       std  min  25%  50%  75%  max\n",
      "Churn                                                     \n",
      "0      5163.0  0.252954  0.434747  0.0  0.0  0.0  1.0  1.0\n",
      "1      1869.0  0.088818  0.284556  0.0  0.0  0.0  0.0  1.0\n",
      "\n",
      "\n",
      "Contract_Two year\n",
      "        count      mean       std  min  25%  50%  75%  max\n",
      "Churn                                                     \n",
      "0      5163.0  0.317064  0.465378  0.0  0.0  0.0  1.0  1.0\n",
      "1      1869.0  0.025682  0.158228  0.0  0.0  0.0  0.0  1.0\n",
      "\n",
      "\n",
      "Contract_Month-to-month\n",
      "        count      mean       std  min  25%  50%  75%  max\n",
      "Churn                                                     \n",
      "0      5163.0  0.429983  0.495121  0.0  0.0  0.0  1.0  1.0\n",
      "1      1869.0  0.885500  0.318502  0.0  1.0  1.0  1.0  1.0\n",
      "\n",
      "\n",
      "tenure\n",
      "        count       mean        std  min   25%   50%   75%   max\n",
      "Churn                                                           \n",
      "0      5163.0  37.650010  24.076940  1.0  15.0  38.0  61.0  72.0\n",
      "1      1869.0  17.979133  19.531123  1.0   2.0  10.0  29.0  72.0\n",
      "\n"
     ]
    }
   ],
   "source": [
    "for column in churn_df[list_contract_breaker]:\n",
    "    print('')\n",
    "    print(column)\n",
    "    print(churn_df[column].groupby(by=churn_df['Churn']).describe())\n",
    "    print('')"
   ]
  },
  {
   "cell_type": "markdown",
   "metadata": {},
   "source": [
    "We can see that out of the contract types, Month-to-Month is a far more important indicator for likelyhood of churning. Let's explore tenure a bit more to see if there are any clear trends."
   ]
  },
  {
   "cell_type": "code",
   "execution_count": 24,
   "metadata": {},
   "outputs": [
    {
     "name": "stdout",
     "output_type": "stream",
     "text": [
      "Tenure Descriptive Statistical Measurements\n",
      "count    7032.000000\n",
      "mean       32.421786\n",
      "std        24.545260\n",
      "min         1.000000\n",
      "25%         9.000000\n",
      "50%        29.000000\n",
      "75%        55.000000\n",
      "max        72.000000\n",
      "Name: tenure, dtype: float64\n"
     ]
    },
    {
     "data": {
      "image/png": "[encoded data removed]",
      "text/plain": [
       "<Figure size 432x288 with 1 Axes>"
      ]
     },
     "metadata": {
      "needs_background": "light"
     },
     "output_type": "display_data"
    }
   ],
   "source": [
    "print('Tenure Descriptive Statistical Measurements')\n",
    "print(churn_df['tenure'].describe())\n",
    "\n",
    "#Plot distribution of tenure\n",
    "plt.title('Distribution of Tenure by Month')\n",
    "plt.xlabel('Length of Tenure by Month')\n",
    "plt.ylabel('Individual Customer Count')\n",
    "sns.histplot(data=churn_df['tenure'],kde=True,bins=int(np.sqrt(72)));"
   ]
  },
  {
   "cell_type": "code",
   "execution_count": 25,
   "metadata": {},
   "outputs": [
    {
     "data": {
      "image/png": "[encoded data removed]",
      "text/plain": [
       "<Figure size 432x288 with 1 Axes>"
      ]
     },
     "metadata": {
      "needs_background": "light"
     },
     "output_type": "display_data"
    }
   ],
   "source": [
    "#Boxplot of Tenure\n",
    "plt.xlabel(xlabel='Tenure')\n",
    "plt.ylabel('Contract Length in Months')\n",
    "plt.boxplot(x=churn_df['tenure']);"
   ]
  },
  {
   "cell_type": "markdown",
   "metadata": {},
   "source": [
    "Let's isolate the churned customers and place them in their own database."
   ]
  },
  {
   "cell_type": "code",
   "execution_count": 26,
   "metadata": {},
   "outputs": [
    {
     "data": {
      "text/html": [
       "<div>\n",
       "<style scoped>\n",
       "    .dataframe tbody tr th:only-of-type {\n",
       "        vertical-align: middle;\n",
       "    }\n",
       "\n",
       "    .dataframe tbody tr th {\n",
       "        vertical-align: top;\n",
       "    }\n",
       "\n",
       "    .dataframe thead th {\n",
       "        text-align: right;\n",
       "    }\n",
       "</style>\n",
       "<table border=\"1\" class=\"dataframe\">\n",
       "  <thead>\n",
       "    <tr style=\"text-align: right;\">\n",
       "      <th></th>\n",
       "      <th>tenure</th>\n",
       "    </tr>\n",
       "  </thead>\n",
       "  <tbody>\n",
       "    <tr>\n",
       "      <th>count</th>\n",
       "      <td>1869.000000</td>\n",
       "    </tr>\n",
       "    <tr>\n",
       "      <th>mean</th>\n",
       "      <td>17.979133</td>\n",
       "    </tr>\n",
       "    <tr>\n",
       "      <th>std</th>\n",
       "      <td>19.531123</td>\n",
       "    </tr>\n",
       "    <tr>\n",
       "      <th>min</th>\n",
       "      <td>1.000000</td>\n",
       "    </tr>\n",
       "    <tr>\n",
       "      <th>25%</th>\n",
       "      <td>2.000000</td>\n",
       "    </tr>\n",
       "    <tr>\n",
       "      <th>50%</th>\n",
       "      <td>10.000000</td>\n",
       "    </tr>\n",
       "    <tr>\n",
       "      <th>75%</th>\n",
       "      <td>29.000000</td>\n",
       "    </tr>\n",
       "    <tr>\n",
       "      <th>max</th>\n",
       "      <td>72.000000</td>\n",
       "    </tr>\n",
       "  </tbody>\n",
       "</table>\n",
       "</div>"
      ],
      "text/plain": [
       "            tenure\n",
       "count  1869.000000\n",
       "mean     17.979133\n",
       "std      19.531123\n",
       "min       1.000000\n",
       "25%       2.000000\n",
       "50%      10.000000\n",
       "75%      29.000000\n",
       "max      72.000000"
      ]
     },
     "execution_count": 26,
     "metadata": {},
     "output_type": "execute_result"
    }
   ],
   "source": [
    "#Creating a seperate dataframe of all churned customers for this month, with number of months they were on contract\n",
    "tenure_churned_df = pd.DataFrame(churn_df['tenure'].where(churn_df['Churn']==True))\n",
    "\n",
    "#Dropping null values to isolate all churned customers, as all null values are for retained customers for this specific dataframe\n",
    "tenure_churned_df.dropna(inplace=True)\n",
    "tenure_churned_df.describe()"
   ]
  },
  {
   "cell_type": "code",
   "execution_count": 27,
   "metadata": {},
   "outputs": [
    {
     "data": {
      "image/png": "[encoded data removed]",
      "text/plain": [
       "<Figure size 432x288 with 1 Axes>"
      ]
     },
     "metadata": {
      "needs_background": "light"
     },
     "output_type": "display_data"
    }
   ],
   "source": [
    "#Creating a histogram to examine the distribution of the data for trends and patterns\n",
    "sns.histplot(data=tenure_churned_df, kde=True,bins=int(np.sqrt(72)));"
   ]
  },
  {
   "cell_type": "markdown",
   "metadata": {},
   "source": [
    "We can see that the bulk of our churned customers were within the first 10 months of their subscription, with a gradual but steady decrease in the first 30 months. Let's examine what the culmative monthly churn probability, based on these numbers."
   ]
  },
  {
   "cell_type": "code",
   "execution_count": 28,
   "metadata": {},
   "outputs": [
    {
     "name": "stdout",
     "output_type": "stream",
     "text": [
      "The probability of a Month-to-Month customer churning within 1 months is:  20%\n",
      "\n",
      "The probability of a Month-to-Month customer churning within 2 months is:  27%\n",
      "\n",
      "The probability of a Month-to-Month customer churning within 3 months is:  32%\n",
      "\n",
      "The probability of a Month-to-Month customer churning within 6 months is:  43%\n",
      "\n",
      "The probability of a Month-to-Month customer churning within 12 months is:  56%\n",
      "Compared to a One Year Length customer: 21%\n",
      "\n",
      "The probability of a Month-to-Month customer churning within 18 months is:  65%\n",
      "\n",
      "The probability of a Month-to-Month customer churning within 24 months is:  72%\n",
      "Compared to a Two Year Length Customer: 24%\n",
      "\n"
     ]
    }
   ],
   "source": [
    "#Look at the culmative churn probability \n",
    "for i in [1,2,3,6,12,18,24]: #Looks at 1/2/3/6/12/24 month churn probability respectively\n",
    "    print('The probability of a Month-to-Month customer churning within',\n",
    "          i,'months is: ', \"{:.0%}\".format(tenure_churned_df.value_counts(normalize=True)[0:i].sum()))\n",
    "    \n",
    "    if i == 12:\n",
    "        print('Compared to a One Year Length customer:',\"{:.0%}\".format(churn_df['Contract_One year'].mean()))\n",
    "\n",
    "    elif i == 24:\n",
    "        print('Compared to a Two Year Length Customer:',\"{:.0%}\".format(churn_df['Contract_Two year'].mean()))\n",
    "    print('')"
   ]
  },
  {
   "cell_type": "markdown",
   "metadata": {},
   "source": [
    "As we would expect, locking customers into contracts drastically reduces the chances of them churning. We can see that most customers churn 56% of the time by the end of their first year, where as only 21% of contract holders churn at the end of their contracts."
   ]
  },
  {
   "cell_type": "code",
   "execution_count": 29,
   "metadata": {},
   "outputs": [
    {
     "data": {
      "image/png": "[encoded data removed]",
      "text/plain": [
       "<Figure size 720x720 with 1 Axes>"
      ]
     },
     "metadata": {
      "needs_background": "light"
     },
     "output_type": "display_data"
    }
   ],
   "source": [
    "top_ten_tenure_months = tenure_churned_df.value_counts(normalize=False)[0:5]\n",
    "labels = ['1 Month','2 Months','3 Months','4 Months','5 Months']\n",
    "plt.figure(figsize=(10,10))\n",
    "top_ten_tenure_months.plot(kind='bar');"
   ]
  },
  {
   "cell_type": "markdown",
   "metadata": {},
   "source": [
    "## Feature Engineering\n",
    "\n",
    "After examining our coefficents for our logistic regression model, we are returning here to create and manipulate some of our features further."
   ]
  },
  {
   "cell_type": "code",
   "execution_count": 30,
   "metadata": {},
   "outputs": [
    {
     "data": {
      "text/html": [
       "<div>\n",
       "<style scoped>\n",
       "    .dataframe tbody tr th:only-of-type {\n",
       "        vertical-align: middle;\n",
       "    }\n",
       "\n",
       "    .dataframe tbody tr th {\n",
       "        vertical-align: top;\n",
       "    }\n",
       "\n",
       "    .dataframe thead th {\n",
       "        text-align: right;\n",
       "    }\n",
       "</style>\n",
       "<table border=\"1\" class=\"dataframe\">\n",
       "  <thead>\n",
       "    <tr style=\"text-align: right;\">\n",
       "      <th></th>\n",
       "      <th>customerID</th>\n",
       "      <th>gender</th>\n",
       "      <th>SeniorCitizen</th>\n",
       "      <th>Partner</th>\n",
       "      <th>Dependents</th>\n",
       "      <th>tenure</th>\n",
       "      <th>PhoneService</th>\n",
       "      <th>OnlineSecurity</th>\n",
       "      <th>OnlineBackup</th>\n",
       "      <th>DeviceProtection</th>\n",
       "      <th>...</th>\n",
       "      <th>InternetService_DSL</th>\n",
       "      <th>InternetService_Fiber optic</th>\n",
       "      <th>InternetService_No</th>\n",
       "      <th>Contract_Month-to-month</th>\n",
       "      <th>Contract_One year</th>\n",
       "      <th>Contract_Two year</th>\n",
       "      <th>PaymentMethod_Bank transfer (automatic)</th>\n",
       "      <th>PaymentMethod_Credit card (automatic)</th>\n",
       "      <th>PaymentMethod_Electronic check</th>\n",
       "      <th>PaymentMethod_Mailed check</th>\n",
       "    </tr>\n",
       "  </thead>\n",
       "  <tbody>\n",
       "    <tr>\n",
       "      <th>0</th>\n",
       "      <td>7590-VHVEG</td>\n",
       "      <td>1</td>\n",
       "      <td>0</td>\n",
       "      <td>1</td>\n",
       "      <td>0</td>\n",
       "      <td>1</td>\n",
       "      <td>0</td>\n",
       "      <td>1</td>\n",
       "      <td>2</td>\n",
       "      <td>1</td>\n",
       "      <td>...</td>\n",
       "      <td>1</td>\n",
       "      <td>0</td>\n",
       "      <td>0</td>\n",
       "      <td>1</td>\n",
       "      <td>0</td>\n",
       "      <td>0</td>\n",
       "      <td>0</td>\n",
       "      <td>0</td>\n",
       "      <td>1</td>\n",
       "      <td>0</td>\n",
       "    </tr>\n",
       "    <tr>\n",
       "      <th>1</th>\n",
       "      <td>5575-GNVDE</td>\n",
       "      <td>0</td>\n",
       "      <td>0</td>\n",
       "      <td>0</td>\n",
       "      <td>0</td>\n",
       "      <td>34</td>\n",
       "      <td>1</td>\n",
       "      <td>2</td>\n",
       "      <td>1</td>\n",
       "      <td>2</td>\n",
       "      <td>...</td>\n",
       "      <td>1</td>\n",
       "      <td>0</td>\n",
       "      <td>0</td>\n",
       "      <td>0</td>\n",
       "      <td>1</td>\n",
       "      <td>0</td>\n",
       "      <td>0</td>\n",
       "      <td>0</td>\n",
       "      <td>0</td>\n",
       "      <td>1</td>\n",
       "    </tr>\n",
       "    <tr>\n",
       "      <th>2</th>\n",
       "      <td>3668-QPYBK</td>\n",
       "      <td>0</td>\n",
       "      <td>0</td>\n",
       "      <td>0</td>\n",
       "      <td>0</td>\n",
       "      <td>2</td>\n",
       "      <td>1</td>\n",
       "      <td>2</td>\n",
       "      <td>2</td>\n",
       "      <td>1</td>\n",
       "      <td>...</td>\n",
       "      <td>1</td>\n",
       "      <td>0</td>\n",
       "      <td>0</td>\n",
       "      <td>1</td>\n",
       "      <td>0</td>\n",
       "      <td>0</td>\n",
       "      <td>0</td>\n",
       "      <td>0</td>\n",
       "      <td>0</td>\n",
       "      <td>1</td>\n",
       "    </tr>\n",
       "    <tr>\n",
       "      <th>3</th>\n",
       "      <td>7795-CFOCW</td>\n",
       "      <td>0</td>\n",
       "      <td>0</td>\n",
       "      <td>0</td>\n",
       "      <td>0</td>\n",
       "      <td>45</td>\n",
       "      <td>0</td>\n",
       "      <td>2</td>\n",
       "      <td>1</td>\n",
       "      <td>2</td>\n",
       "      <td>...</td>\n",
       "      <td>1</td>\n",
       "      <td>0</td>\n",
       "      <td>0</td>\n",
       "      <td>0</td>\n",
       "      <td>1</td>\n",
       "      <td>0</td>\n",
       "      <td>1</td>\n",
       "      <td>0</td>\n",
       "      <td>0</td>\n",
       "      <td>0</td>\n",
       "    </tr>\n",
       "    <tr>\n",
       "      <th>4</th>\n",
       "      <td>9237-HQITU</td>\n",
       "      <td>1</td>\n",
       "      <td>0</td>\n",
       "      <td>0</td>\n",
       "      <td>0</td>\n",
       "      <td>2</td>\n",
       "      <td>1</td>\n",
       "      <td>1</td>\n",
       "      <td>1</td>\n",
       "      <td>1</td>\n",
       "      <td>...</td>\n",
       "      <td>0</td>\n",
       "      <td>1</td>\n",
       "      <td>0</td>\n",
       "      <td>1</td>\n",
       "      <td>0</td>\n",
       "      <td>0</td>\n",
       "      <td>0</td>\n",
       "      <td>0</td>\n",
       "      <td>1</td>\n",
       "      <td>0</td>\n",
       "    </tr>\n",
       "  </tbody>\n",
       "</table>\n",
       "<p>5 rows × 30 columns</p>\n",
       "</div>"
      ],
      "text/plain": [
       "   customerID  gender  SeniorCitizen  Partner  Dependents  tenure  \\\n",
       "0  7590-VHVEG       1              0        1           0       1   \n",
       "1  5575-GNVDE       0              0        0           0      34   \n",
       "2  3668-QPYBK       0              0        0           0       2   \n",
       "3  7795-CFOCW       0              0        0           0      45   \n",
       "4  9237-HQITU       1              0        0           0       2   \n",
       "\n",
       "   PhoneService  OnlineSecurity  OnlineBackup  DeviceProtection  ...  \\\n",
       "0             0               1             2                 1  ...   \n",
       "1             1               2             1                 2  ...   \n",
       "2             1               2             2                 1  ...   \n",
       "3             0               2             1                 2  ...   \n",
       "4             1               1             1                 1  ...   \n",
       "\n",
       "   InternetService_DSL  InternetService_Fiber optic  InternetService_No  \\\n",
       "0                    1                            0                   0   \n",
       "1                    1                            0                   0   \n",
       "2                    1                            0                   0   \n",
       "3                    1                            0                   0   \n",
       "4                    0                            1                   0   \n",
       "\n",
       "   Contract_Month-to-month  Contract_One year  Contract_Two year  \\\n",
       "0                        1                  0                  0   \n",
       "1                        0                  1                  0   \n",
       "2                        1                  0                  0   \n",
       "3                        0                  1                  0   \n",
       "4                        1                  0                  0   \n",
       "\n",
       "   PaymentMethod_Bank transfer (automatic)  \\\n",
       "0                                        0   \n",
       "1                                        0   \n",
       "2                                        0   \n",
       "3                                        1   \n",
       "4                                        0   \n",
       "\n",
       "   PaymentMethod_Credit card (automatic)  PaymentMethod_Electronic check  \\\n",
       "0                                      0                               1   \n",
       "1                                      0                               0   \n",
       "2                                      0                               0   \n",
       "3                                      0                               0   \n",
       "4                                      0                               1   \n",
       "\n",
       "   PaymentMethod_Mailed check  \n",
       "0                           0  \n",
       "1                           1  \n",
       "2                           1  \n",
       "3                           0  \n",
       "4                           0  \n",
       "\n",
       "[5 rows x 30 columns]"
      ]
     },
     "execution_count": 30,
     "metadata": {},
     "output_type": "execute_result"
    }
   ],
   "source": [
    "churn_df.head()"
   ]
  },
  {
   "cell_type": "code",
   "execution_count": null,
   "metadata": {},
   "outputs": [],
   "source": []
  }
 ],
 "metadata": {
  "kernelspec": {
   "display_name": "Python 3",
   "language": "python",
   "name": "python3"
  },
  "language_info": {
   "codemirror_mode": {
    "name": "ipython",
    "version": 3
   },
   "file_extension": ".py",
   "mimetype": "text/x-python",
   "name": "python",
   "nbconvert_exporter": "python",
   "pygments_lexer": "ipython3",
   "version": "3.8.5"
  }
 },
 "nbformat": 4,
 "nbformat_minor": 5
}
